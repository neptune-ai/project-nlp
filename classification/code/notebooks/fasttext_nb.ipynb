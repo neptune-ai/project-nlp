{
 "cells": [
  {
   "cell_type": "markdown",
   "id": "6a26e0c3-d61a-44b5-93da-ace30474d684",
   "metadata": {},
   "source": [
    "# Install the neptune-notebooks widget\n",
    "[Read the docs](https://docs.neptune.ai/integrations-and-supported-tools/ide-and-notebooks/jupyter-lab-and-jupyter-notebook)"
   ]
  },
  {
   "cell_type": "markdown",
   "id": "505b5319-4226-490c-b99b-ebe6f11fdf8a",
   "metadata": {},
   "source": [
    "# Import dependencies"
   ]
  },
  {
   "cell_type": "code",
   "execution_count": null,
   "id": "f478245e-e3dd-4dbd-967a-5c1dea4e6935",
   "metadata": {},
   "outputs": [],
   "source": [
    "import csv\n",
    "import os\n",
    "import re\n",
    "from io import StringIO\n",
    "from pathlib import Path\n",
    "\n",
    "import fasttext\n",
    "import optuna\n",
    "import pandas as pd\n",
    "import plotly.graph_objects as go\n",
    "from nltk.corpus import stopwords\n",
    "from sklearn.metrics import ConfusionMatrixDisplay, classification_report, precision_recall_fscore_support\n",
    "from sklearn.model_selection import train_test_split\n",
    "from tqdm.notebook import tqdm\n",
    "\n",
    "pd.options.plotting.backend = \"plotly\"\n",
    "path = Path()"
   ]
  },
  {
   "cell_type": "code",
   "execution_count": null,
   "id": "bcbcff71",
   "metadata": {},
   "outputs": [],
   "source": [
    "N_JOBS = 1\n",
    "N_TRIALS = 10"
   ]
  },
  {
   "cell_type": "markdown",
   "id": "04c91b55-a8b1-44fe-801d-d23aa07fec69",
   "metadata": {},
   "source": [
    "# Initialize a neptune project\n",
    "[Read the docs](https://docs.neptune.ai/you-should-know/core-concepts#project)"
   ]
  },
  {
   "cell_type": "code",
   "execution_count": null,
   "id": "88079cb2-6ff7-4d12-a0b1-5f9ccf6c6dce",
   "metadata": {},
   "outputs": [],
   "source": [
    "import neptune.new as neptune"
   ]
  },
  {
   "cell_type": "code",
   "execution_count": null,
   "id": "6b30ce4f",
   "metadata": {},
   "outputs": [],
   "source": [
    "WORKSPACE_NAME = \"showcase\"\n",
    "PROJECT_NAME = \"project-text-classification\""
   ]
  },
  {
   "cell_type": "code",
   "execution_count": null,
   "id": "5a2cbb0e-ca0f-42bf-8690-f2b7c0e23541",
   "metadata": {},
   "outputs": [],
   "source": [
    "project = neptune.init_project(name=f\"{WORKSPACE_NAME}/{PROJECT_NAME}\")"
   ]
  },
  {
   "cell_type": "markdown",
   "id": "118ca033-605f-48fc-81f6-5585e3793267",
   "metadata": {},
   "source": [
    "# Log project level metadata"
   ]
  },
  {
   "cell_type": "markdown",
   "id": "4386951e-1278-4f70-b100-9cd005b06435",
   "metadata": {
    "tags": []
   },
   "source": [
    "## Version and track datasets\n",
    "[Read the docs](https://docs.neptune.ai/how-to-guides/data-versioning)"
   ]
  },
  {
   "cell_type": "code",
   "execution_count": null,
   "id": "2f3dbc61-afbe-4f9a-8583-f881963165cc",
   "metadata": {},
   "outputs": [],
   "source": [
    "DATASET_PATH_S3 = \"s3://neptune-examples/data/text-classification\""
   ]
  },
  {
   "cell_type": "code",
   "execution_count": null,
   "id": "115f272f-306d-4525-95f8-e97f44c4fd09",
   "metadata": {},
   "outputs": [],
   "source": [
    "project[\"data/files\"].track_files(str(DATASET_PATH_S3))"
   ]
  },
  {
   "cell_type": "code",
   "execution_count": null,
   "id": "c5204146-8fb5-451c-b28f-2c742f49b2dd",
   "metadata": {},
   "outputs": [],
   "source": [
    "df_raw = pd.read_csv(f\"{DATASET_PATH_S3}/legal_text_classification.csv\")\n",
    "df_raw.dropna(subset=[\"case_text\"], inplace=True)\n",
    "df_raw.drop_duplicates(subset=\"case_text\", inplace=True)\n",
    "df_raw"
   ]
  },
  {
   "cell_type": "markdown",
   "id": "3fa75d07-507b-4ade-b832-ece37af6b13f",
   "metadata": {},
   "source": [
    "## Log dataset sample\n",
    "[Read the docs](https://docs.neptune.ai/you-should-know/what-can-you-log-and-display#files)"
   ]
  },
  {
   "cell_type": "code",
   "execution_count": null,
   "id": "9d1df7cf-bfca-43e4-a956-15f8db18f156",
   "metadata": {},
   "outputs": [],
   "source": [
    "from neptune.new.types import File"
   ]
  },
  {
   "cell_type": "code",
   "execution_count": null,
   "id": "2a4eb789-5b87-4ee0-a8f8-2882efbc829c",
   "metadata": {},
   "outputs": [],
   "source": [
    "csv_buffer = StringIO()\n",
    "df_raw.sample(100).to_csv(csv_buffer, index=False)\n",
    "project[\"data/sample\"].upload(File.from_stream(csv_buffer, extension=\"csv\"))"
   ]
  },
  {
   "cell_type": "markdown",
   "id": "c4f82845-19e8-46a1-9992-3fcc6f16b1ab",
   "metadata": {},
   "source": [
    "## Log metadata plots\n",
    "[Read the docs](https://docs.neptune.ai/you-should-know/what-can-you-log-and-display#images)"
   ]
  },
  {
   "cell_type": "code",
   "execution_count": null,
   "id": "50ecd8b3-cede-46ab-a932-f045ed453c21",
   "metadata": {},
   "outputs": [],
   "source": [
    "fig = df_raw.case_outcome.value_counts().plot(kind=\"bar\")\n",
    "fig.update_xaxes(title=\"Case outcome\")\n",
    "fig.update_yaxes(title=\"No. of cases\")"
   ]
  },
  {
   "cell_type": "code",
   "execution_count": null,
   "id": "4db03af7-3c9c-48fb-866d-d1638fb1e87e",
   "metadata": {
    "tags": []
   },
   "outputs": [],
   "source": [
    "project[\"data/distribution\"].upload(fig)"
   ]
  },
  {
   "cell_type": "markdown",
   "id": "334871d3-dd8e-4ee3-8f18-f93be1c5b9ec",
   "metadata": {},
   "source": [
    "# Data processing"
   ]
  },
  {
   "cell_type": "code",
   "execution_count": null,
   "id": "4f37c7a9-19f7-49b6-90f4-a1679ec6c6ff",
   "metadata": {},
   "outputs": [],
   "source": [
    "def clean_text(df: pd.DataFrame, col: str) -> pd.DataFrame:\n",
    "    \"\"\"Cleans a dataframe `df` string column `col` by applying the following transformations:\n",
    "    * Convert string to lower-case\n",
    "    * Remove punctuation\n",
    "    * Remove numbers\n",
    "    * Remove single-letter words\n",
    "    * Remove stopwords\n",
    "    * Remove multiple and leading/trailing whitespaces\n",
    "\n",
    "    Args:\n",
    "        df: Dataframe containing sgtring columns `col` to be cleaned\n",
    "        col: String column to be cleaned\n",
    "\n",
    "    Returns:\n",
    "        A copy of the dataframe `df` with the column `col` cleaned\n",
    "    \"\"\"\n",
    "\n",
    "    tqdm.pandas()\n",
    "    stop = set(stopwords.words(\"english\"))\n",
    "    pat = r\"\\b(?:{})\\b\".format(\"|\".join(stop))\n",
    "\n",
    "    _df = df.copy()\n",
    "    _df[col] = (\n",
    "        df[col]\n",
    "        .progress_apply(str.lower)  # Converting to lowercase\n",
    "        .progress_apply(lambda x: re.sub(r\"[^\\w\\s]\", \" \", x))  # Removing punctuation\n",
    "        .progress_apply(lambda x: \" \".join(x for x in x.split() if not any(c.isdigit() for c in x)))  # Removing numbers\n",
    "        .progress_apply(lambda x: re.sub(r\"\\b\\w\\b\", \"\", x))  # Removing single-letter words\n",
    "        .str.replace(pat, \"\", regex=True)  # Removing stopwords\n",
    "        .progress_apply(lambda x: re.sub(r\" +\", \" \", x))  # Removing multiple-whitespaces\n",
    "        .str.strip()  # Removing leading and whitepaces\n",
    "    )\n",
    "\n",
    "    return _df"
   ]
  },
  {
   "cell_type": "code",
   "execution_count": null,
   "id": "ca39afc1-947e-4a01-879c-1f1d0d185d7c",
   "metadata": {},
   "outputs": [],
   "source": [
    "df_fasttext_raw = df_raw[[\"case_outcome\", \"case_text\"]]\n",
    "df_fasttext_raw[\"label\"] = \"__label__\" + df_fasttext_raw.case_outcome.str.replace(\" \", \"_\")\n",
    "df_fasttext_raw = df_fasttext_raw[[\"label\", \"case_text\"]]\n",
    "df_fasttext_raw"
   ]
  },
  {
   "cell_type": "code",
   "execution_count": null,
   "id": "e36b377a-53b4-4ce0-81f5-3fa0609eb3f3",
   "metadata": {},
   "outputs": [],
   "source": [
    "DATASET_PATH_LOCAL = path.cwd().parent.parent.joinpath(\"data\")\n",
    "\n",
    "if not os.path.exists(DATASET_PATH_LOCAL):\n",
    "    os.makedirs(DATASET_PATH_LOCAL)"
   ]
  },
  {
   "cell_type": "code",
   "execution_count": null,
   "id": "96dfc1d3-935f-42a4-b748-096611e4769f",
   "metadata": {},
   "outputs": [],
   "source": [
    "DATASET_PATH_LOCAL_FASTTEXT = DATASET_PATH_LOCAL.joinpath(\"fasttext\")\n",
    "\n",
    "if not os.path.exists(DATASET_PATH_LOCAL_FASTTEXT):\n",
    "    os.makedirs(DATASET_PATH_LOCAL_FASTTEXT)"
   ]
  },
  {
   "cell_type": "code",
   "execution_count": null,
   "id": "448e247e-61e7-45f4-97e7-ebdf504894b3",
   "metadata": {},
   "outputs": [],
   "source": [
    "TO_CSV_KWARGS = {\n",
    "    \"sep\": \" \",\n",
    "    \"header\": False,\n",
    "    \"index\": False,\n",
    "    \"quoting\": csv.QUOTE_NONE,\n",
    "    \"quotechar\": \"\",\n",
    "    \"escapechar\": \" \",\n",
    "}"
   ]
  },
  {
   "cell_type": "code",
   "execution_count": null,
   "id": "12ba0609-c4c0-42cd-97d8-a16fb8214f80",
   "metadata": {},
   "outputs": [],
   "source": [
    "df_fasttext_raw.to_csv(DATASET_PATH_LOCAL_FASTTEXT.joinpath(\"raw.txt\"), **TO_CSV_KWARGS)"
   ]
  },
  {
   "cell_type": "code",
   "execution_count": null,
   "id": "b0e51de7-4913-40e7-88c7-2af3f534b980",
   "metadata": {},
   "outputs": [],
   "source": [
    "! head -5 $DATASET_PATH_LOCAL_FASTTEXT\"/raw.txt\""
   ]
  },
  {
   "cell_type": "code",
   "execution_count": null,
   "id": "464b164a-70b5-4a07-a633-1e66cdf7e6ae",
   "metadata": {},
   "outputs": [],
   "source": [
    "df_processed = clean_text(df_fasttext_raw, \"case_text\")\n",
    "df_processed.drop_duplicates(subset=\"case_text\", inplace=True)\n",
    "df_processed"
   ]
  },
  {
   "cell_type": "code",
   "execution_count": null,
   "id": "44f2e1e9-6ca1-4c8b-8387-44cb9543bd8c",
   "metadata": {},
   "outputs": [],
   "source": [
    "df_processed.to_csv(DATASET_PATH_LOCAL_FASTTEXT.joinpath(\"processed.txt\"), **TO_CSV_KWARGS)"
   ]
  },
  {
   "cell_type": "code",
   "execution_count": null,
   "id": "c4e9a615-c4cf-4206-9358-116a88b298b9",
   "metadata": {},
   "outputs": [],
   "source": [
    "! head -5 $DATASET_PATH_LOCAL_FASTTEXT\"/processed.txt\""
   ]
  },
  {
   "cell_type": "code",
   "execution_count": null,
   "id": "e0b088df-91e0-47b6-9c77-dcc1e12036a7",
   "metadata": {},
   "outputs": [],
   "source": [
    "X = df_processed[\"case_text\"]\n",
    "y = df_processed[\"label\"]"
   ]
  },
  {
   "cell_type": "code",
   "execution_count": null,
   "id": "d47ed62d-dcc6-418d-819a-1b7cccaf14c2",
   "metadata": {},
   "outputs": [],
   "source": [
    "X_train, X_, y_train, y_ = train_test_split(X, y, stratify=y, train_size=0.7)\n",
    "X_valid, X_test, y_valid, y_test = train_test_split(X_, y_, stratify=y_, train_size=0.5)\n",
    "\n",
    "print(f\"Training size: {X_train.shape}\")\n",
    "print(f\"Validation size: {X_valid.shape}\")\n",
    "print(f\"Test size: {X_test.shape}\")"
   ]
  },
  {
   "cell_type": "code",
   "execution_count": null,
   "id": "c0063c65-ea66-4582-b493-823d622256fc",
   "metadata": {},
   "outputs": [],
   "source": [
    "df_train = pd.DataFrame(data=[y_train, X_train]).T\n",
    "df_valid = pd.DataFrame(data=[y_valid, X_valid]).T\n",
    "df_test = pd.DataFrame(data=[y_test, X_test]).T"
   ]
  },
  {
   "cell_type": "code",
   "execution_count": null,
   "id": "dea393f1-f90f-466e-a61d-e7394bba9388",
   "metadata": {},
   "outputs": [],
   "source": [
    "df_train.to_csv(DATASET_PATH_LOCAL_FASTTEXT.joinpath(\"train.txt\"), **TO_CSV_KWARGS)\n",
    "df_valid.to_csv(DATASET_PATH_LOCAL_FASTTEXT.joinpath(\"valid.txt\"), **TO_CSV_KWARGS)\n",
    "df_test.to_csv(DATASET_PATH_LOCAL_FASTTEXT.joinpath(\"test.txt\"), **TO_CSV_KWARGS)"
   ]
  },
  {
   "cell_type": "markdown",
   "id": "44b2ffd5-c2d4-466a-818a-711d8cf8cbf7",
   "metadata": {
    "tags": []
   },
   "source": [
    "# Initialize optuna study-level run"
   ]
  },
  {
   "cell_type": "code",
   "execution_count": null,
   "id": "1e030504-c795-4fdd-9f40-65912ad7c582",
   "metadata": {},
   "outputs": [],
   "source": [
    "import uuid\n",
    "\n",
    "sweep_id = uuid.uuid1()\n",
    "print(f\"Optuna sweep-id: {sweep_id}\")"
   ]
  },
  {
   "cell_type": "code",
   "execution_count": null,
   "id": "7bdf0ec9-44ea-419e-a5be-07a7aa46192b",
   "metadata": {},
   "outputs": [],
   "source": [
    "run = neptune.init_run(\n",
    "    project=f\"{WORKSPACE_NAME}/{PROJECT_NAME}\",\n",
    "    name=\"Fasttext text classification\",\n",
    "    description=\"Optuna tuned fasttext text classification\",\n",
    "    tags=[\"fasttext\", \"optuna\", \"study-level\", \"notebook\"],\n",
    ")"
   ]
  },
  {
   "cell_type": "markdown",
   "id": "1e1e6522-da4d-4a9d-af01-943a67a2d89b",
   "metadata": {},
   "source": [
    "## Track run-specific files\n",
    "[Read the docs](https://docs.neptune.ai/how-to-guides/data-versioning/compare-datasets#step-2-add-tracking-of-the-dataset-version)"
   ]
  },
  {
   "cell_type": "code",
   "execution_count": null,
   "id": "9654dc86-5189-4264-876a-6ae10096b7ea",
   "metadata": {},
   "outputs": [],
   "source": [
    "run[\"data/files\"].track_files(os.path.relpath(DATASET_PATH_LOCAL_FASTTEXT))"
   ]
  },
  {
   "cell_type": "code",
   "execution_count": null,
   "id": "27f496cf-e46d-4f9d-8715-5e99cd8abba9",
   "metadata": {},
   "outputs": [],
   "source": [
    "csv_buffer = StringIO()\n",
    "\n",
    "df_fasttext_raw.sample(100).to_csv(csv_buffer, index=False)\n",
    "run[\"data/sample\"].upload(File.from_stream(csv_buffer, extension=\"csv\"))"
   ]
  },
  {
   "cell_type": "markdown",
   "id": "55a72804-650f-46ec-8ccb-50a8d1f019c3",
   "metadata": {},
   "source": [
    "## Log metadata to run\n",
    "[Read the docs](https://docs.neptune.ai/you-should-know/logging-metadata)"
   ]
  },
  {
   "cell_type": "code",
   "execution_count": null,
   "id": "4b20c0be-9161-4151-ad19-ee40cd9de95a",
   "metadata": {},
   "outputs": [],
   "source": [
    "metadata = {\n",
    "    \"train_size\": len(df_train),\n",
    "    \"test_size\": len(df_test),\n",
    "}\n",
    "\n",
    "run[\"data/metadata\"] = metadata"
   ]
  },
  {
   "cell_type": "markdown",
   "id": "a8326cd4-8e59-4280-8b90-852c2108f02f",
   "metadata": {},
   "source": [
    "## Log sweep and trial parameters\n",
    "[Read the docs](https://docs.neptune.ai/integrations-and-supported-tools/hyperparameter-optimization/optuna)"
   ]
  },
  {
   "cell_type": "code",
   "execution_count": null,
   "id": "8d75ab7e-9fb3-44bc-b9b5-bb92728a2eaa",
   "metadata": {},
   "outputs": [],
   "source": [
    "def objective_with_logging(trial):\n",
    "\n",
    "    params = {\n",
    "        \"lr\": trial.suggest_float(\"lr\", 0.1, 1, step=0.1),\n",
    "        \"dim\": trial.suggest_int(\"dim\", 10, 1000, log=True),\n",
    "        \"ws\": trial.suggest_int(\"ws\", 1, 10),\n",
    "        \"epoch\": trial.suggest_int(\"epoch\", 1, 100),\n",
    "        \"minCount\": trial.suggest_int(\"minCount\", 1, 10),\n",
    "        \"wordNgrams\": trial.suggest_int(\"wordNgrams\", 1, 3),\n",
    "        \"loss\": trial.suggest_categorical(\"loss\", [\"hs\", \"softmax\", \"ova\"]),\n",
    "        \"bucket\": trial.suggest_int(\"bucket\", 1000000, 6000000, log=True),\n",
    "        \"lrUpdateRate\": trial.suggest_int(\"lrUpdateRate\", 1, 100, log=True),\n",
    "        \"t\": trial.suggest_float(\"t\", 0.00001, 0.1, log=True),\n",
    "    }\n",
    "\n",
    "    # create a trial-level Run\n",
    "    run_trial_level = neptune.init_run(\n",
    "        project=f\"{WORKSPACE_NAME}/{PROJECT_NAME}\",\n",
    "        name=\"Fasttext text classification\",\n",
    "        description=\"Optuna tuned fasttext text classification\",\n",
    "        tags=[\"fasttext\", \"optuna\", \"trial-level\", \"notebook\"],\n",
    "    )\n",
    "\n",
    "    # log sweep id to trial-level Run\n",
    "    run_trial_level[\"sweep_id\"] = sweep_id\n",
    "\n",
    "    # log parameters of a trial-level Run\n",
    "    clf = fasttext.train_supervised(\n",
    "        input=str(DATASET_PATH_LOCAL_FASTTEXT.joinpath(\"train.txt\")),\n",
    "        verbose=0,\n",
    "        **params,\n",
    "    )\n",
    "\n",
    "    properties = {k: v for k, v in vars(clf).items() if k not in [\"_words\", \"f\"]}\n",
    "    run_trial_level[\"model/properties\"] = properties\n",
    "\n",
    "    # run training and calculate the score for this parameter configuration\n",
    "    preds = [clf.predict(text)[0][0] for text in X_valid.values]\n",
    "\n",
    "    run_trial_level[\"validation/metrics/classification_report\"] = classification_report(\n",
    "        y_valid,\n",
    "        preds,\n",
    "        output_dict=True,\n",
    "        zero_division=0,\n",
    "    )\n",
    "\n",
    "    precision, recall, f1_score, _ = precision_recall_fscore_support(\n",
    "        y_valid,\n",
    "        preds,\n",
    "        average=\"weighted\",\n",
    "        zero_division=0,\n",
    "    )\n",
    "\n",
    "    run_trial_level[\"validation/metrics/precision\"] = precision\n",
    "    run_trial_level[\"validation/metrics/recall\"] = recall\n",
    "    run_trial_level[\"validation/metrics/f1_score\"] = f1_score\n",
    "\n",
    "    # stop trial-level Run\n",
    "    run_trial_level.stop()\n",
    "\n",
    "    return f1_score"
   ]
  },
  {
   "cell_type": "code",
   "execution_count": null,
   "id": "545a9c24-93f8-45f8-89ed-6d41fa1a1afa",
   "metadata": {},
   "outputs": [],
   "source": [
    "import neptune.new.integrations.optuna as optuna_utils\n",
    "\n",
    "neptune_callback = optuna_utils.NeptuneCallback(run)"
   ]
  },
  {
   "cell_type": "code",
   "execution_count": null,
   "id": "1d0ea185-ac23-4dbc-8259-d504677047e0",
   "metadata": {
    "tags": []
   },
   "outputs": [],
   "source": [
    "study = optuna.create_study(direction=\"maximize\")\n",
    "study.optimize(\n",
    "    objective_with_logging,\n",
    "    n_trials=N_TRIALS,\n",
    "    callbacks=[neptune_callback],\n",
    "    n_jobs=N_JOBS,\n",
    ")"
   ]
  },
  {
   "cell_type": "code",
   "execution_count": null,
   "id": "e04e8361-86a0-4f0f-985f-cfd4b9ed7c85",
   "metadata": {},
   "outputs": [],
   "source": [
    "run[\"study/sweep_id\"] = sweep_id"
   ]
  },
  {
   "cell_type": "markdown",
   "id": "d12ec39e-789c-495d-8e55-cb1ef09adae8",
   "metadata": {},
   "source": [
    "## Register a model \n",
    "[Read the docs](https://docs.neptune.ai/how-to-guides/model-registry)"
   ]
  },
  {
   "cell_type": "code",
   "execution_count": null,
   "id": "cd4ba89a-35c7-49a7-9337-dcc59eef67a4",
   "metadata": {},
   "outputs": [],
   "source": [
    "model = neptune.init_model(\n",
    "    name=\"fasttext\",\n",
    "    # key=\"FTXTNB\", # Required only for new models\n",
    "    project=f\"{WORKSPACE_NAME}/{PROJECT_NAME}\",\n",
    ")"
   ]
  },
  {
   "cell_type": "markdown",
   "id": "d802af56-8ba1-492c-95a2-8768df0aa32a",
   "metadata": {},
   "source": [
    "### Create a new model version\n",
    "[Read the docs](https://docs.neptune.ai/how-to-guides/model-registry/creating-model-versions)"
   ]
  },
  {
   "cell_type": "code",
   "execution_count": null,
   "id": "bce98dc0-2dd9-444f-a653-3662a19432e0",
   "metadata": {},
   "outputs": [],
   "source": [
    "model_version = neptune.init_model_version(\n",
    "    project=f\"{WORKSPACE_NAME}/{PROJECT_NAME}\",\n",
    "    model=model.get_structure()[\"sys\"][\"id\"].fetch(),\n",
    ")"
   ]
  },
  {
   "cell_type": "markdown",
   "id": "29a271ea-54d7-4316-8b33-f96666ff4bd9",
   "metadata": {},
   "source": [
    "### Associate model version to run and vice-versa"
   ]
  },
  {
   "cell_type": "code",
   "execution_count": null,
   "id": "d7875181-46f5-475c-80fb-55541173962a",
   "metadata": {},
   "outputs": [],
   "source": [
    "run_dict = {\n",
    "    \"id\": run.get_structure()[\"sys\"][\"id\"].fetch(),\n",
    "    \"name\": run.get_structure()[\"sys\"][\"name\"].fetch(),\n",
    "    \"url\": run.get_run_url(),\n",
    "}\n",
    "run_dict"
   ]
  },
  {
   "cell_type": "code",
   "execution_count": null,
   "id": "4345cfb0-6b94-43cb-a018-e231a3d11d2e",
   "metadata": {},
   "outputs": [],
   "source": [
    "model_version[\"run\"] = run_dict"
   ]
  },
  {
   "cell_type": "code",
   "execution_count": null,
   "id": "a3c73cef-d29a-43f9-92a6-d4546b038ed4",
   "metadata": {},
   "outputs": [],
   "source": [
    "model_version_dict = {\n",
    "    \"id\": model_version.get_structure()[\"sys\"][\"id\"].fetch(),\n",
    "    \"url\": model_version.get_url(),\n",
    "}\n",
    "model_version_dict"
   ]
  },
  {
   "cell_type": "code",
   "execution_count": null,
   "id": "ecd0d92c-7099-4a05-a8c0-4988517bb715",
   "metadata": {},
   "outputs": [],
   "source": [
    "run[\"model\"] = model_version_dict"
   ]
  },
  {
   "cell_type": "code",
   "execution_count": null,
   "id": "51395b49-29b6-4051-bba3-ee25b27ca15e",
   "metadata": {},
   "outputs": [],
   "source": [
    "clf = fasttext.train_supervised(\n",
    "    input=str(DATASET_PATH_LOCAL_FASTTEXT.joinpath(\"train.txt\")),\n",
    "    verbose=5,\n",
    "    **study.best_params,\n",
    ")"
   ]
  },
  {
   "cell_type": "markdown",
   "id": "9b3b68c8-0950-4e51-a38a-1cfe1c0c179a",
   "metadata": {},
   "source": [
    "### Upload serialized model to model registry\n",
    "[Read the docs](https://docs.neptune.ai/how-to-guides/model-registry/creating-model-versions)"
   ]
  },
  {
   "cell_type": "code",
   "execution_count": null,
   "id": "629c418d-d7c5-4821-8e0a-42e836ca3e57",
   "metadata": {},
   "outputs": [],
   "source": [
    "MODEL_PATH = path.cwd().parent.parent.joinpath(\"models\")"
   ]
  },
  {
   "cell_type": "code",
   "execution_count": null,
   "id": "028b493a-d2ef-4855-ac53-2d3d40c30615",
   "metadata": {},
   "outputs": [],
   "source": [
    "clf.save_model(str(MODEL_PATH.joinpath(\"fasttext_nb.bin\")))"
   ]
  },
  {
   "cell_type": "code",
   "execution_count": null,
   "id": "94b8c596-b57f-4348-876d-6bd6d65eac4b",
   "metadata": {},
   "outputs": [],
   "source": [
    "model_version[\"serialized_model\"].upload(str(MODEL_PATH.joinpath(\"fasttext_nb.bin\")))"
   ]
  },
  {
   "cell_type": "markdown",
   "id": "5dd9684e-d5af-454b-9596-050414934e54",
   "metadata": {},
   "source": [
    "### Log model properties to model_version"
   ]
  },
  {
   "cell_type": "code",
   "execution_count": null,
   "id": "21ea268a-cdf4-437c-b433-5b41d110a140",
   "metadata": {},
   "outputs": [],
   "source": [
    "properties = {k: v for k, v in vars(clf).items() if k not in [\"_words\", \"f\"]}\n",
    "properties"
   ]
  },
  {
   "cell_type": "code",
   "execution_count": null,
   "id": "726545c0-3f21-4819-967f-8330998d7fa1",
   "metadata": {},
   "outputs": [],
   "source": [
    "model_version[\"properties\"] = properties"
   ]
  },
  {
   "cell_type": "markdown",
   "id": "bc77e530-f54d-49ef-8968-0cacf8e17387",
   "metadata": {},
   "source": [
    "## Log parameters, metrics and debugging information to run"
   ]
  },
  {
   "cell_type": "code",
   "execution_count": null,
   "id": "660eba16-9f09-4ab1-b935-e09b037497ed",
   "metadata": {},
   "outputs": [],
   "source": [
    "preds = [clf.predict(text)[0][0] for text in X_test.values]\n",
    "set(preds)"
   ]
  },
  {
   "cell_type": "code",
   "execution_count": null,
   "id": "1a13b8aa-39ed-4887-8e1c-ed9d59ce2f3a",
   "metadata": {},
   "outputs": [],
   "source": [
    "precision, recall, f1_score, _ = precision_recall_fscore_support(\n",
    "    y_test,\n",
    "    preds,\n",
    "    average=\"weighted\",\n",
    "    zero_division=0,\n",
    ")\n",
    "\n",
    "print(f\"Precision: {precision}\\nRecall: {recall}\\nF1-score: {f1_score}\")\n",
    "\n",
    "run[\"test/metrics/precision\"] = precision\n",
    "run[\"test/metrics/recall\"] = recall\n",
    "run[\"test/metrics/f1_score\"] = f1_score"
   ]
  },
  {
   "cell_type": "code",
   "execution_count": null,
   "id": "1ebc75c5-fd7a-47f8-a3dd-5af1d3e789f7",
   "metadata": {},
   "outputs": [],
   "source": [
    "print(classification_report(y_test, preds, zero_division=0))\n",
    "\n",
    "# Log each metric in its separate nested namespace\n",
    "run[\"test/metrics/classification_report\"] = classification_report(y_test, preds, output_dict=True, zero_division=0)\n",
    "\n",
    "# Log classification report as an HTML dataframe\n",
    "df_clf_rpt = pd.DataFrame(classification_report(y_test, preds, output_dict=True, zero_division=0)).T\n",
    "run[\"test/metrics/classification_report/report\"].upload(File.as_html(df_clf_rpt))"
   ]
  },
  {
   "cell_type": "code",
   "execution_count": null,
   "id": "78214eff-28fc-4d1c-867b-b06b57933c95",
   "metadata": {},
   "outputs": [],
   "source": [
    "fig = ConfusionMatrixDisplay.from_predictions(y_test, preds, xticks_rotation=\"vertical\", colorbar=False)\n",
    "run[\"test/debug/plots/confusion_matrix\"].upload(fig.figure_)"
   ]
  },
  {
   "cell_type": "code",
   "execution_count": null,
   "id": "fb119175-a278-4337-a779-2efbf858a7de",
   "metadata": {},
   "outputs": [],
   "source": [
    "df_test[\"prediction\"] = preds\n",
    "df_test"
   ]
  },
  {
   "cell_type": "code",
   "execution_count": null,
   "id": "04077f7e-2818-4bef-9d94-9645dbe7e3cf",
   "metadata": {},
   "outputs": [],
   "source": [
    "labels = [s.replace(\"__label__\", \"\") for s in df_test.label.value_counts().index]\n",
    "fig = go.Figure(\n",
    "    data=[\n",
    "        go.Bar(name=\"Actual\", x=labels, y=df_test.label.value_counts()),\n",
    "        go.Bar(name=\"Prediction\", x=labels, y=df_test.prediction.value_counts()),\n",
    "    ]\n",
    ")\n",
    "fig.update_layout(title=\"Actual vs Prediction\", barmode=\"group\")\n",
    "fig.show()"
   ]
  },
  {
   "cell_type": "code",
   "execution_count": null,
   "id": "70a90cc7-2ab5-46db-affe-71be1082013d",
   "metadata": {},
   "outputs": [],
   "source": [
    "run[\"test/debug/plots/prediction_distribution\"].upload(fig)"
   ]
  },
  {
   "cell_type": "markdown",
   "id": "ca3631e6",
   "metadata": {},
   "source": [
    "## Log misclassified results"
   ]
  },
  {
   "cell_type": "code",
   "execution_count": null,
   "id": "422f8db0-a0ca-4879-90ae-dee4957cd77f",
   "metadata": {},
   "outputs": [],
   "source": [
    "df_debug = df_test[df_test.label != df_test.prediction]\n",
    "\n",
    "csv_buffer = StringIO()\n",
    "\n",
    "df_debug.to_csv(csv_buffer, index=False)\n",
    "run[\"test/debug/misclassifications\"].upload(File.from_stream(csv_buffer, extension=\"csv\"))"
   ]
  },
  {
   "cell_type": "markdown",
   "id": "dcd18e52-b6c8-40dc-97e9-77fe978eb971",
   "metadata": {},
   "source": [
    "## Stop model version, model, run, and project\n",
    "[Read the docs](https://docs.neptune.ai/api-reference/project#.stop)"
   ]
  },
  {
   "cell_type": "code",
   "execution_count": null,
   "id": "59358b07-b416-4bc3-958c-6a1d569a4b1b",
   "metadata": {},
   "outputs": [],
   "source": [
    "model_version.stop()\n",
    "model.stop()\n",
    "run.stop()\n",
    "project.stop()"
   ]
  },
  {
   "cell_type": "markdown",
   "id": "4a6584c2-0f5b-4449-944e-b42b1da43f39",
   "metadata": {},
   "source": [
    "# Explore the [project](https://app.neptune.ai/showcase/project-text-classification) in the Neptune app\n"
   ]
  }
 ],
 "metadata": {
  "language_info": {
   "codemirror_mode": {
    "name": "ipython",
    "version": 3
   },
   "file_extension": ".py",
   "mimetype": "text/x-python",
   "name": "python",
   "nbconvert_exporter": "python",
   "pygments_lexer": "ipython3",
   "version": "3.10.5"
  },
  "neptune": {
   "notebookId": "9728bc33-8960-46d2-8b4f-e26af7acbc59",
   "projectVersion": 2
  },
  "vscode": {
   "interpreter": {
    "hash": "ec001e92a202bf5caf822e845ea5ad1be0f2e89477ccf084fef05c1d70e5b02a"
   }
  }
 },
 "nbformat": 4,
 "nbformat_minor": 5
}
