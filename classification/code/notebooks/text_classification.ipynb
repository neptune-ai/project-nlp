{
 "cells": [
  {
   "cell_type": "markdown",
   "id": "6a26e0c3-d61a-44b5-93da-ace30474d684",
   "metadata": {},
   "source": [
    "# Install the neptune-notebooks widget\n",
    "[Read the docs](https://docs.neptune.ai/integrations-and-supported-tools/ide-and-notebooks/jupyter-lab-and-jupyter-notebook)"
   ]
  },
  {
   "cell_type": "markdown",
   "id": "04c91b55-a8b1-44fe-801d-d23aa07fec69",
   "metadata": {},
   "source": [
    "# Initialize a neptune project\n",
    "[Read the docs](https://docs.neptune.ai/you-should-know/core-concepts#project)"
   ]
  },
  {
   "cell_type": "code",
   "execution_count": null,
   "id": "88079cb2-6ff7-4d12-a0b1-5f9ccf6c6dce",
   "metadata": {},
   "outputs": [],
   "source": [
    "import neptune.new as neptune"
   ]
  },
  {
   "cell_type": "code",
   "execution_count": null,
   "id": "6b30ce4f",
   "metadata": {},
   "outputs": [],
   "source": [
    "WORKSPACE_NAME = \"showcase\"\n",
    "PROJECT_NAME = \"project-text-classification\""
   ]
  },
  {
   "cell_type": "code",
   "execution_count": null,
   "id": "5a2cbb0e-ca0f-42bf-8690-f2b7c0e23541",
   "metadata": {},
   "outputs": [],
   "source": [
    "project = neptune.init_project(name=f\"{WORKSPACE_NAME}/{PROJECT_NAME}\")"
   ]
  },
  {
   "cell_type": "markdown",
   "id": "118ca033-605f-48fc-81f6-5585e3793267",
   "metadata": {},
   "source": [
    "# Log project level metadata"
   ]
  },
  {
   "cell_type": "markdown",
   "id": "4386951e-1278-4f70-b100-9cd005b06435",
   "metadata": {
    "tags": []
   },
   "source": [
    "## Version and track datasets\n",
    "[Read the docs](https://docs.neptune.ai/how-to-guides/data-versioning)"
   ]
  },
  {
   "cell_type": "code",
   "execution_count": null,
   "id": "e36b377a-53b4-4ce0-81f5-3fa0609eb3f3",
   "metadata": {},
   "outputs": [],
   "source": [
    "DATASET_PATH = \"../../data\""
   ]
  },
  {
   "cell_type": "code",
   "execution_count": null,
   "id": "115f272f-306d-4525-95f8-e97f44c4fd09",
   "metadata": {},
   "outputs": [],
   "source": [
    "project[\"data/files\"].track_files(f\"{DATASET_PATH}\")"
   ]
  },
  {
   "cell_type": "code",
   "execution_count": null,
   "id": "94bb64bb-002e-4031-945f-50e8adb2fc4e",
   "metadata": {},
   "outputs": [],
   "source": [
    "import csv\n",
    "\n",
    "import pandas as pd"
   ]
  },
  {
   "cell_type": "code",
   "execution_count": null,
   "id": "c5204146-8fb5-451c-b28f-2c742f49b2dd",
   "metadata": {},
   "outputs": [],
   "source": [
    "df_raw = pd.read_csv(f\"{DATASET_PATH}/raw/legal_text_classification.csv\")\n",
    "df_raw.dropna(subset=[\"case_text\"], inplace=True)\n",
    "df_raw"
   ]
  },
  {
   "cell_type": "code",
   "execution_count": null,
   "id": "7363f666-af79-45e4-8f21-6c1fb5d24abf",
   "metadata": {},
   "outputs": [],
   "source": [
    "df_raw.isna().sum()"
   ]
  },
  {
   "cell_type": "code",
   "execution_count": null,
   "id": "0988dc93-8d72-4164-9ead-5f6c1f318ce5",
   "metadata": {},
   "outputs": [],
   "source": [
    "sum(df_raw.case_text.duplicated())"
   ]
  },
  {
   "cell_type": "code",
   "execution_count": null,
   "id": "f6717780-fc78-441c-90b5-c7b930a44df1",
   "metadata": {},
   "outputs": [],
   "source": [
    "df_raw.drop_duplicates(subset=\"case_text\", inplace=True)\n",
    "sum(df_raw.case_text.duplicated())"
   ]
  },
  {
   "cell_type": "markdown",
   "id": "3fa75d07-507b-4ade-b832-ece37af6b13f",
   "metadata": {},
   "source": [
    "## Log dataset sample\n",
    "[Read the docs](https://docs.neptune.ai/you-should-know/what-can-you-log-and-display#files)"
   ]
  },
  {
   "cell_type": "code",
   "execution_count": null,
   "id": "7912abd9-9870-42b4-96e6-3a0f2a82cac4",
   "metadata": {},
   "outputs": [],
   "source": [
    "from io import StringIO\n",
    "\n",
    "from neptune.new.types import File"
   ]
  },
  {
   "cell_type": "code",
   "execution_count": null,
   "id": "2a4eb789-5b87-4ee0-a8f8-2882efbc829c",
   "metadata": {},
   "outputs": [],
   "source": [
    "csv_buffer = StringIO()\n",
    "df_raw.sample(100).to_csv(csv_buffer, index=False)\n",
    "project[\"data/sample\"].upload(File.from_stream(csv_buffer, extension=\"csv\"))"
   ]
  },
  {
   "cell_type": "markdown",
   "id": "c4f82845-19e8-46a1-9992-3fcc6f16b1ab",
   "metadata": {},
   "source": [
    "## Log metadata plots\n",
    "[Read the docs](https://docs.neptune.ai/you-should-know/what-can-you-log-and-display#images)"
   ]
  },
  {
   "cell_type": "code",
   "execution_count": null,
   "id": "50ecd8b3-cede-46ab-a932-f045ed453c21",
   "metadata": {},
   "outputs": [],
   "source": [
    "fig = df_raw.case_outcome.value_counts().plot(kind=\"bar\")\n",
    "fig"
   ]
  },
  {
   "cell_type": "code",
   "execution_count": null,
   "id": "f4d1066e-d211-49e2-8332-527d0c486fe4",
   "metadata": {},
   "outputs": [],
   "source": [
    "project[\"data/distribution\"].upload(fig.figure)"
   ]
  },
  {
   "cell_type": "markdown",
   "id": "6e82d669-a80c-4688-984f-92d711e369b4",
   "metadata": {},
   "source": [
    "# Initialize a new neptune run for baseline model\n",
    "[Read the docs](https://docs.neptune.ai/you-should-know/core-concepts#run)"
   ]
  },
  {
   "cell_type": "code",
   "execution_count": null,
   "id": "b39505c7-6440-4cfe-b019-06cd1638dbff",
   "metadata": {},
   "outputs": [],
   "source": [
    "run = neptune.init_run(\n",
    "    project=f\"{WORKSPACE_NAME}/{PROJECT_NAME}\",\n",
    "    name=\"text classification using fasttext\",\n",
    "    description=\"training on raw data\",\n",
    "    tags=[\"fasttext\", \"raw\"],\n",
    ")"
   ]
  },
  {
   "cell_type": "code",
   "execution_count": null,
   "id": "ca39afc1-947e-4a01-879c-1f1d0d185d7c",
   "metadata": {},
   "outputs": [],
   "source": [
    "df_fasttext_raw = df_raw[[\"case_outcome\", \"case_text\"]]\n",
    "df_fasttext_raw[\"label\"] = \"__label__\" + df_fasttext_raw.case_outcome\n",
    "df_fasttext_raw = df_fasttext_raw[[\"label\", \"case_text\"]]\n",
    "df_fasttext_raw"
   ]
  },
  {
   "cell_type": "code",
   "execution_count": null,
   "id": "12ba0609-c4c0-42cd-97d8-a16fb8214f80",
   "metadata": {},
   "outputs": [],
   "source": [
    "df_fasttext_raw.to_csv(\n",
    "    f\"{DATASET_PATH}/fasttext/raw.txt\",\n",
    "    sep=\" \",\n",
    "    header=False,\n",
    "    index=False,\n",
    "    quoting=csv.QUOTE_NONE,\n",
    "    quotechar=\"\",\n",
    "    escapechar=\" \",\n",
    ")"
   ]
  },
  {
   "cell_type": "code",
   "execution_count": null,
   "id": "b0e51de7-4913-40e7-88c7-2af3f534b980",
   "metadata": {},
   "outputs": [],
   "source": [
    "! head -5 $DATASET_PATH\"/fasttext/raw.txt\""
   ]
  },
  {
   "cell_type": "markdown",
   "id": "b6cfe3b0-a779-4181-9592-debc804cb531",
   "metadata": {},
   "source": [
    "## Track run-specific files\n",
    "[Read the docs](https://docs.neptune.ai/how-to-guides/data-versioning/compare-datasets#step-2-add-tracking-of-the-dataset-version)"
   ]
  },
  {
   "cell_type": "code",
   "execution_count": null,
   "id": "27f496cf-e46d-4f9d-8715-5e99cd8abba9",
   "metadata": {},
   "outputs": [],
   "source": [
    "csv_buffer = StringIO()\n",
    "\n",
    "df_fasttext_raw.sample(100).to_csv(csv_buffer, index=False)\n",
    "run[\"data/sample\"].upload(File.from_stream(csv_buffer, extension=\"csv\"))"
   ]
  },
  {
   "cell_type": "code",
   "execution_count": null,
   "id": "5688af96-c9a3-427b-92e5-caa04b9bd773",
   "metadata": {},
   "outputs": [],
   "source": [
    "def train_test_valid_split(X: pd.DataFrame, y: list) -> pd.DataFrame:\n",
    "    \"\"\"Splits `X` into train, test and validation sets stratified on `y`\"\"\"\n",
    "\n",
    "    from sklearn.model_selection import train_test_split\n",
    "\n",
    "    X_train, _X_test, y_train, _y_test = train_test_split(X, y, stratify=y, test_size=0.4)\n",
    "    X_test, X_valid, y_test, y_valid = train_test_split(_X_test, _y_test, stratify=_y_test, test_size=0.5)\n",
    "\n",
    "    print(X_train.shape)\n",
    "    print(len(y_train))\n",
    "    print(X_test.shape)\n",
    "    print(len(y_test))\n",
    "    print(X_valid.shape)\n",
    "    print(len(y_valid))\n",
    "\n",
    "    return X_train, y_train, X_test, y_test, X_valid, y_valid"
   ]
  },
  {
   "cell_type": "code",
   "execution_count": null,
   "id": "8cc5e368-e7c7-4572-8373-6f7afe45019e",
   "metadata": {},
   "outputs": [],
   "source": [
    "X = df_fasttext_raw[\"case_text\"]\n",
    "y = df_fasttext_raw[\"label\"]"
   ]
  },
  {
   "cell_type": "code",
   "execution_count": null,
   "id": "81d70562-36c8-436b-820e-2a978bb8f361",
   "metadata": {},
   "outputs": [],
   "source": [
    "X_train, y_train, X_test, y_test, X_valid, y_valid = train_test_valid_split(X, y)"
   ]
  },
  {
   "cell_type": "code",
   "execution_count": null,
   "id": "c0063c65-ea66-4582-b493-823d622256fc",
   "metadata": {},
   "outputs": [],
   "source": [
    "df_train = pd.DataFrame(data=[y_train, X_train]).T\n",
    "df_train"
   ]
  },
  {
   "cell_type": "code",
   "execution_count": null,
   "id": "ff1ca8c9-2e92-4f5a-a66e-ece0348f3d9f",
   "metadata": {},
   "outputs": [],
   "source": [
    "df_test = pd.DataFrame(data=[y_test, X_test]).T\n",
    "df_valid = pd.DataFrame(data=[y_valid, X_valid]).T"
   ]
  },
  {
   "cell_type": "code",
   "execution_count": null,
   "id": "dea393f1-f90f-466e-a61d-e7394bba9388",
   "metadata": {},
   "outputs": [],
   "source": [
    "df_train.to_csv(\n",
    "    f\"{DATASET_PATH}/raw/train.txt\",\n",
    "    sep=\" \",\n",
    "    header=False,\n",
    "    index=False,\n",
    "    quoting=csv.QUOTE_NONE,\n",
    "    quotechar=\"\",\n",
    "    escapechar=\" \",\n",
    ")\n",
    "df_test.to_csv(\n",
    "    f\"{DATASET_PATH}/raw/test.txt\",\n",
    "    sep=\" \",\n",
    "    header=False,\n",
    "    index=False,\n",
    "    quoting=csv.QUOTE_NONE,\n",
    "    quotechar=\"\",\n",
    "    escapechar=\" \",\n",
    ")\n",
    "df_valid.to_csv(\n",
    "    f\"{DATASET_PATH}/raw/valid.txt\",\n",
    "    sep=\" \",\n",
    "    header=False,\n",
    "    index=False,\n",
    "    quoting=csv.QUOTE_NONE,\n",
    "    quotechar=\"\",\n",
    "    escapechar=\" \",\n",
    ")"
   ]
  },
  {
   "cell_type": "code",
   "execution_count": null,
   "id": "79694fae-dfa8-49bc-b051-bc18e3bc1ed6",
   "metadata": {},
   "outputs": [],
   "source": [
    "run[\"data/files\"].track_files(f\"{DATASET_PATH}/raw\")"
   ]
  },
  {
   "cell_type": "markdown",
   "id": "a7df97a6-333a-49f5-bee1-0dfcc581b5d9",
   "metadata": {},
   "source": [
    "## Log metadata to run\n",
    "[Read the docs](https://docs.neptune.ai/you-should-know/logging-metadata)"
   ]
  },
  {
   "cell_type": "code",
   "execution_count": null,
   "id": "2e0d6830-5b54-426c-a92a-bb5194df56de",
   "metadata": {},
   "outputs": [],
   "source": [
    "metadata = {\n",
    "    \"train_size\": len(df_train),\n",
    "    \"test_size\": len(df_test),\n",
    "    \"valid_size\": len(df_valid),\n",
    "}\n",
    "metadata"
   ]
  },
  {
   "cell_type": "code",
   "execution_count": null,
   "id": "12df94ff-9453-4050-9268-1f346f93e4f2",
   "metadata": {},
   "outputs": [],
   "source": [
    "run[\"data/metadata\"] = metadata"
   ]
  },
  {
   "cell_type": "markdown",
   "id": "ff237785-64c4-4be9-9f41-a0527212ada8",
   "metadata": {},
   "source": [
    "## Register a model \n",
    "[Read the docs](https://docs.neptune.ai/how-to-guides/model-registry)"
   ]
  },
  {
   "cell_type": "code",
   "execution_count": null,
   "id": "cd4ba89a-35c7-49a7-9337-dcc59eef67a4",
   "metadata": {},
   "outputs": [],
   "source": [
    "model = neptune.init_model(\n",
    "    name=\"fasttext\",\n",
    "    key=\"FTXT\",\n",
    "    project=f\"{WORKSPACE_NAME}/{project.get_structure()['sys']['name'].fetch()}\",\n",
    ")"
   ]
  },
  {
   "cell_type": "markdown",
   "id": "d1d45e74-dccd-4d13-bde3-fed5f3f29c45",
   "metadata": {},
   "source": [
    "### Create a new model version\n",
    "[Read the docs](https://docs.neptune.ai/how-to-guides/model-registry/creating-model-versions)"
   ]
  },
  {
   "cell_type": "code",
   "execution_count": null,
   "id": "bce98dc0-2dd9-444f-a653-3662a19432e0",
   "metadata": {},
   "outputs": [],
   "source": [
    "model_version = neptune.init_model_version(\n",
    "    project=f\"{WORKSPACE_NAME}/{project.get_structure()['sys']['name'].fetch()}\",\n",
    "    model=model.get_structure()[\"sys\"][\"id\"].fetch(),\n",
    ")"
   ]
  },
  {
   "cell_type": "markdown",
   "id": "c05d4773-9468-4376-8259-fa2e0148b65d",
   "metadata": {},
   "source": [
    "### Associate model version to run and vice-versa"
   ]
  },
  {
   "cell_type": "code",
   "execution_count": null,
   "id": "d7875181-46f5-475c-80fb-55541173962a",
   "metadata": {},
   "outputs": [],
   "source": [
    "run_dict = {\n",
    "    \"id\": run.get_structure()[\"sys\"][\"id\"].fetch(),\n",
    "    \"name\": run.get_structure()[\"sys\"][\"name\"].fetch(),\n",
    "    \"url\": run.get_run_url(),\n",
    "}\n",
    "run_dict"
   ]
  },
  {
   "cell_type": "code",
   "execution_count": null,
   "id": "4345cfb0-6b94-43cb-a018-e231a3d11d2e",
   "metadata": {},
   "outputs": [],
   "source": [
    "model_version[\"run\"] = run_dict"
   ]
  },
  {
   "cell_type": "code",
   "execution_count": null,
   "id": "a3c73cef-d29a-43f9-92a6-d4546b038ed4",
   "metadata": {},
   "outputs": [],
   "source": [
    "model_version_dict = {\n",
    "    \"id\": model_version.get_structure()[\"sys\"][\"id\"].fetch(),\n",
    "    \"url\": model_version.get_url(),\n",
    "}\n",
    "model_version_dict"
   ]
  },
  {
   "cell_type": "code",
   "execution_count": null,
   "id": "ecd0d92c-7099-4a05-a8c0-4988517bb715",
   "metadata": {},
   "outputs": [],
   "source": [
    "run[\"model\"] = model_version_dict"
   ]
  },
  {
   "cell_type": "code",
   "execution_count": null,
   "id": "b35786e6-b194-436e-9d17-262a014aebaf",
   "metadata": {},
   "outputs": [],
   "source": [
    "import fasttext"
   ]
  },
  {
   "cell_type": "code",
   "execution_count": null,
   "id": "ea16b3aa-c472-4761-a55f-bd9b185931e3",
   "metadata": {},
   "outputs": [],
   "source": [
    "clf = fasttext.train_supervised(input=f\"{DATASET_PATH}/raw/train.txt\")"
   ]
  },
  {
   "cell_type": "code",
   "execution_count": null,
   "id": "4ac78a78-12ec-43f8-bc3d-c926933e4bf4",
   "metadata": {},
   "outputs": [],
   "source": [
    "clf.save_model(\"../../models/fasttext_baseline.bin\")"
   ]
  },
  {
   "cell_type": "markdown",
   "id": "7352f549-7305-477b-9fc1-f6687e4ca394",
   "metadata": {},
   "source": [
    "### Upload model binary to model registry\n",
    "[Read the docs](https://docs.neptune.ai/how-to-guides/model-registry/creating-model-versions)"
   ]
  },
  {
   "cell_type": "code",
   "execution_count": null,
   "id": "e32ef83e-04d1-4869-aa36-70d4d95de844",
   "metadata": {},
   "outputs": [],
   "source": [
    "model_version[\"serialized_model\"].upload(\"../../models/fasttext_baseline.bin\")"
   ]
  },
  {
   "cell_type": "markdown",
   "id": "f751e477-78c0-4880-92be-ff8b7c763e81",
   "metadata": {},
   "source": [
    "### Log model properties to model_version"
   ]
  },
  {
   "cell_type": "code",
   "execution_count": null,
   "id": "525169e3-63b0-4907-9b26-82538f7fed7d",
   "metadata": {},
   "outputs": [],
   "source": [
    "properties = {k: v for k, v in vars(clf).items() if k not in [\"_words\", \"f\"]}\n",
    "properties"
   ]
  },
  {
   "cell_type": "code",
   "execution_count": null,
   "id": "0d84d59b-8cd9-4ca2-8492-447cc69ea11e",
   "metadata": {},
   "outputs": [],
   "source": [
    "model_version[\"properties\"] = properties"
   ]
  },
  {
   "cell_type": "markdown",
   "id": "5142ff92-f164-44e6-9b8c-b710c341a406",
   "metadata": {},
   "source": [
    "## Log parameters, metrics and debugging information to run"
   ]
  },
  {
   "cell_type": "code",
   "execution_count": null,
   "id": "30cc5a9a-256d-41c2-8db1-4606f5eee0c7",
   "metadata": {},
   "outputs": [],
   "source": [
    "from sklearn.metrics import ConfusionMatrixDisplay, classification_report, f1_score"
   ]
  },
  {
   "cell_type": "code",
   "execution_count": null,
   "id": "942bc4a6-c0bb-47b2-85b7-97612c4ac69c",
   "metadata": {},
   "outputs": [],
   "source": [
    "_, precision, recall = clf.test(f\"{DATASET_PATH}/raw/test.txt\")\n",
    "print(precision, recall)"
   ]
  },
  {
   "cell_type": "code",
   "execution_count": null,
   "id": "fff3640e-f8a5-46d8-8e5a-3e8bff5d53d1",
   "metadata": {},
   "outputs": [],
   "source": [
    "run[\"test/metrics/precision\"] = precision\n",
    "run[\"test/metrics/recall\"] = recall"
   ]
  },
  {
   "cell_type": "code",
   "execution_count": null,
   "id": "82398503-d8d0-475d-8a52-3ce7528cc36c",
   "metadata": {
    "tags": []
   },
   "outputs": [],
   "source": [
    "preds = [clf.predict(text)[0][0] for text in X_test.values]\n",
    "set(preds)"
   ]
  },
  {
   "cell_type": "code",
   "execution_count": null,
   "id": "60ecd43b-f39a-4cf5-8900-1574440b8efa",
   "metadata": {},
   "outputs": [],
   "source": [
    "print(classification_report(y_test, preds, zero_division=0))\n",
    "run[\"test/metrics/classification_report\"] = classification_report(y_test, preds, output_dict=True, zero_division=0)"
   ]
  },
  {
   "cell_type": "code",
   "execution_count": null,
   "id": "960e4ff4-d127-4ada-b701-9ec85d6a93a7",
   "metadata": {},
   "outputs": [],
   "source": [
    "df_clf_rpt = pd.DataFrame(classification_report(y_test, preds, output_dict=True, zero_division=0)).T\n",
    "run[\"test/metrics/classification_report/report\"].upload(File.as_html(df_clf_rpt))"
   ]
  },
  {
   "cell_type": "code",
   "execution_count": null,
   "id": "692b3ea5-0971-401d-898e-5aafe3600802",
   "metadata": {},
   "outputs": [],
   "source": [
    "f1_score(y_test, preds, average=\"weighted\")\n",
    "run[\"test/metrics/f1_score\"] = f1_score(y_test, preds, average=\"weighted\")"
   ]
  },
  {
   "cell_type": "code",
   "execution_count": null,
   "id": "d4e02acb-e32e-4dfe-b58d-28cfafc28d60",
   "metadata": {},
   "outputs": [],
   "source": [
    "fig = ConfusionMatrixDisplay.from_predictions(y_test, preds, xticks_rotation=\"vertical\", colorbar=False)\n",
    "run[\"test/debug/plots/confusion_matrix\"].upload(fig.figure_)"
   ]
  },
  {
   "cell_type": "code",
   "execution_count": null,
   "id": "7688d1a7-35ca-4c5a-9d98-6aea6f6d5a0a",
   "metadata": {},
   "outputs": [],
   "source": [
    "df_test[\"prediction\"] = preds\n",
    "df_test"
   ]
  },
  {
   "cell_type": "code",
   "execution_count": null,
   "id": "ffba2ece-7066-45ce-9c62-d2c690da6fd9",
   "metadata": {},
   "outputs": [],
   "source": [
    "import plotly.graph_objects as go"
   ]
  },
  {
   "cell_type": "code",
   "execution_count": null,
   "id": "cd8ca69f-b6b0-4621-98c7-7a6f0fac8ed2",
   "metadata": {},
   "outputs": [],
   "source": [
    "labels = [s.replace(\"__label__\", \"\") for s in df_test.label.value_counts().index]\n",
    "fig = go.Figure(\n",
    "    data=[\n",
    "        go.Bar(name=\"Actual\", x=labels, y=df_test.label.value_counts()),\n",
    "        go.Bar(name=\"Prediction\", x=labels, y=df_test.prediction.value_counts()),\n",
    "    ]\n",
    ")\n",
    "fig.update_layout(title=\"Actual vs Prediction\", barmode=\"group\")\n",
    "fig.show()"
   ]
  },
  {
   "cell_type": "code",
   "execution_count": null,
   "id": "d04573a4-89c7-4c0b-bc7f-d1bd12ee7e5b",
   "metadata": {},
   "outputs": [],
   "source": [
    "run[\"test/debug/plots/prediction_distribution\"].upload(fig)"
   ]
  },
  {
   "cell_type": "code",
   "execution_count": null,
   "id": "a3a648e9-f8b8-42dd-8afa-3536733375a5",
   "metadata": {},
   "outputs": [],
   "source": [
    "df_debug = df_test[df_test.label != df_test.prediction]\n",
    "\n",
    "csv_buffer = StringIO()\n",
    "\n",
    "df_debug.to_csv(csv_buffer, index=False)\n",
    "run[\"test/debug/misclassifications\"].upload(File.from_stream(csv_buffer, extension=\"csv\"))"
   ]
  },
  {
   "cell_type": "markdown",
   "id": "e9199190-7c1c-4c46-9b75-63d4b3ca8027",
   "metadata": {},
   "source": [
    "## Stop current model version, model, run, and project"
   ]
  },
  {
   "cell_type": "code",
   "execution_count": null,
   "id": "59358b07-b416-4bc3-958c-6a1d569a4b1b",
   "metadata": {},
   "outputs": [],
   "source": [
    "model_version.stop()\n",
    "model.stop()\n",
    "run.stop()\n",
    "project.stop()"
   ]
  },
  {
   "cell_type": "markdown",
   "id": "5160a067-f95c-41c1-a8d5-2fc6a170f973",
   "metadata": {},
   "source": [
    "# Initialize a new neptune run for processed data\n",
    "[Read the docs](https://docs.neptune.ai/you-should-know/core-concepts#run)"
   ]
  },
  {
   "cell_type": "code",
   "execution_count": null,
   "id": "e1fcc7bb-2bd8-4ea4-8860-40543bbe644e",
   "metadata": {},
   "outputs": [],
   "source": [
    "run = neptune.init_run(\n",
    "    project=f\"{WORKSPACE_NAME}/{PROJECT_NAME}\",\n",
    "    name=\"text classification using fasttext\",\n",
    "    description=\"training on processed data\",\n",
    "    tags=[\"fasttext\", \"processed\"],\n",
    ")"
   ]
  },
  {
   "cell_type": "code",
   "execution_count": null,
   "id": "4f37c7a9-19f7-49b6-90f4-a1679ec6c6ff",
   "metadata": {},
   "outputs": [],
   "source": [
    "def clean_text(df: pd.DataFrame, col: str) -> pd.DataFrame:\n",
    "    \"\"\"Cleans a dataframe `df` string column `col` by applying the following transformations:\n",
    "    * Convert string to lower-case\n",
    "    * Convert HTML literals to tags\n",
    "    * Remove punctuation\n",
    "    * Remove numbers\n",
    "    * Remove single-letter words\n",
    "    * Remove stopwords (skipped in this case for performance reasons)\n",
    "    * Stemming words\n",
    "\n",
    "    Args:\n",
    "        df: Dataframe containing sgtring columns `col` to be cleaned\n",
    "        col: String column to be cleaned\n",
    "\n",
    "    Returns:\n",
    "        A copy of the dataframe `df` with the column `col` cleaned\n",
    "    \"\"\"\n",
    "\n",
    "    import re\n",
    "\n",
    "    import nltk\n",
    "    from nltk.corpus import stopwords\n",
    "    from nltk.stem import SnowballStemmer\n",
    "    from tqdm.notebook import tqdm\n",
    "\n",
    "    tqdm.pandas()\n",
    "    stop = set(stopwords.words(\"english\"))\n",
    "    pat = r\"\\b(?:{})\\b\".format(\"|\".join(stop))\n",
    "\n",
    "    _df = df.copy()\n",
    "    _df[col] = (\n",
    "        df[col]\n",
    "        .progress_apply(str.lower)  # Converting to lowercase\n",
    "        .progress_apply(lambda x: re.sub(r\"[^\\w\\s]\", \" \", x))  # Removing punctuation\n",
    "        .progress_apply(lambda x: \" \".join(x for x in x.split() if not any(c.isdigit() for c in x)))  # Removing numbers\n",
    "        .progress_apply(lambda x: re.sub(r\"\\b\\w\\b\", \"\", x))  # Removing single-letter words\n",
    "        .str.replace(pat, \"\", regex=True)\n",
    "        .progress_apply(lambda x: re.sub(\" +\", \" \", x))  # Removing multiple-whitespaces\n",
    "    )\n",
    "\n",
    "    return _df"
   ]
  },
  {
   "cell_type": "code",
   "execution_count": null,
   "id": "464b164a-70b5-4a07-a633-1e66cdf7e6ae",
   "metadata": {},
   "outputs": [],
   "source": [
    "df_processed = clean_text(df_fasttext_raw, \"case_text\")\n",
    "df_processed"
   ]
  },
  {
   "cell_type": "code",
   "execution_count": null,
   "id": "917f2f99-cc70-46a3-ad27-9d270eb34b7b",
   "metadata": {},
   "outputs": [],
   "source": [
    "sum(df_processed.case_text.duplicated())"
   ]
  },
  {
   "cell_type": "code",
   "execution_count": null,
   "id": "40f460e4-f76f-4515-a218-a8fef3ae0a13",
   "metadata": {},
   "outputs": [],
   "source": [
    "df_processed.drop_duplicates(subset=\"case_text\", inplace=True)\n",
    "sum(df_processed.case_text.duplicated())"
   ]
  },
  {
   "cell_type": "code",
   "execution_count": null,
   "id": "44f2e1e9-6ca1-4c8b-8387-44cb9543bd8c",
   "metadata": {},
   "outputs": [],
   "source": [
    "df_processed.to_csv(\n",
    "    f\"{DATASET_PATH}/fasttext/processed.txt\",\n",
    "    sep=\" \",\n",
    "    header=False,\n",
    "    index=False,\n",
    "    quoting=csv.QUOTE_NONE,\n",
    "    quotechar=\"\",\n",
    "    escapechar=\" \",\n",
    ")"
   ]
  },
  {
   "cell_type": "markdown",
   "id": "641eb370-f5bb-4dcb-bdaf-6cfcdefc4ce8",
   "metadata": {},
   "source": [
    "## Track run-specific files\n",
    "[Read the docs](https://docs.neptune.ai/how-to-guides/data-versioning/compare-datasets#step-2-add-tracking-of-the-dataset-version)"
   ]
  },
  {
   "cell_type": "code",
   "execution_count": null,
   "id": "87442f6e-7f2e-4e86-a1ea-58dfd30111ed",
   "metadata": {},
   "outputs": [],
   "source": [
    "csv_buffer = StringIO()\n",
    "\n",
    "df_processed.sample(100).to_csv(csv_buffer, index=False)\n",
    "run[\"data/sample\"].upload(File.from_stream(csv_buffer, extension=\"csv\"))"
   ]
  },
  {
   "cell_type": "code",
   "execution_count": null,
   "id": "e0b088df-91e0-47b6-9c77-dcc1e12036a7",
   "metadata": {},
   "outputs": [],
   "source": [
    "X = df_processed[\"case_text\"]\n",
    "y = df_processed[\"label\"]"
   ]
  },
  {
   "cell_type": "code",
   "execution_count": null,
   "id": "b797983c-70e0-4693-be03-6722b9bf4f7b",
   "metadata": {},
   "outputs": [],
   "source": [
    "X_train, y_train, X_test, y_test, X_valid, y_valid = train_test_valid_split(X, y)"
   ]
  },
  {
   "cell_type": "code",
   "execution_count": null,
   "id": "b129c7f5-2f8e-4d9c-bba6-5a09814165bb",
   "metadata": {},
   "outputs": [],
   "source": [
    "df_train = pd.DataFrame(data=[y_train, X_train]).T\n",
    "df_train"
   ]
  },
  {
   "cell_type": "code",
   "execution_count": null,
   "id": "bc7a0009-2c83-4fb8-abc8-253042d756e5",
   "metadata": {},
   "outputs": [],
   "source": [
    "df_test = pd.DataFrame(data=[y_test, X_test]).T\n",
    "df_valid = pd.DataFrame(data=[y_valid, X_valid]).T"
   ]
  },
  {
   "cell_type": "code",
   "execution_count": null,
   "id": "723adf67-3049-405d-b623-5f7bdcfad1d3",
   "metadata": {},
   "outputs": [],
   "source": [
    "df_train.to_csv(\n",
    "    f\"{DATASET_PATH}/processed/train.txt\",\n",
    "    sep=\" \",\n",
    "    header=False,\n",
    "    index=False,\n",
    "    quoting=csv.QUOTE_NONE,\n",
    "    quotechar=\"\",\n",
    "    escapechar=\" \",\n",
    ")\n",
    "df_test.to_csv(\n",
    "    f\"{DATASET_PATH}/processed/test.txt\",\n",
    "    sep=\" \",\n",
    "    header=False,\n",
    "    index=False,\n",
    "    quoting=csv.QUOTE_NONE,\n",
    "    quotechar=\"\",\n",
    "    escapechar=\" \",\n",
    ")\n",
    "df_valid.to_csv(\n",
    "    f\"{DATASET_PATH}/processed/valid.txt\",\n",
    "    sep=\" \",\n",
    "    header=False,\n",
    "    index=False,\n",
    "    quoting=csv.QUOTE_NONE,\n",
    "    quotechar=\"\",\n",
    "    escapechar=\" \",\n",
    ")"
   ]
  },
  {
   "cell_type": "code",
   "execution_count": null,
   "id": "1b311365-0724-4664-8ec1-95f1359ac65e",
   "metadata": {},
   "outputs": [],
   "source": [
    "run[\"data/files\"].track_files(f\"{DATASET_PATH}/processed\")"
   ]
  },
  {
   "cell_type": "markdown",
   "id": "8998c25a-9e9f-43b0-9222-37acf18fd293",
   "metadata": {},
   "source": [
    "## Log metadata to run\n",
    "[Read the docs](https://docs.neptune.ai/you-should-know/logging-metadata)"
   ]
  },
  {
   "cell_type": "code",
   "execution_count": null,
   "id": "4bc54c6a-d526-4d15-95a0-f10f3fca877a",
   "metadata": {},
   "outputs": [],
   "source": [
    "metadata = {\n",
    "    \"train_size\": len(df_train),\n",
    "    \"test_size\": len(df_test),\n",
    "    \"valid_size\": len(df_valid),\n",
    "}\n",
    "metadata"
   ]
  },
  {
   "cell_type": "code",
   "execution_count": null,
   "id": "18cfaf1a-05c1-4d81-974f-b71001c3ae6a",
   "metadata": {
    "tags": []
   },
   "outputs": [],
   "source": [
    "run[\"data/metadata\"] = metadata"
   ]
  },
  {
   "cell_type": "markdown",
   "id": "c0d2afce-0b28-44db-8011-ec6e9014f506",
   "metadata": {},
   "source": [
    "## Create a new model version\n",
    "[Read the docs](https://docs.neptune.ai/how-to-guides/model-registry/creating-model-versions)"
   ]
  },
  {
   "cell_type": "markdown",
   "id": "f466d840-f8c9-4122-b206-b2849e76b073",
   "metadata": {},
   "source": [
    "### Fetch existing models in the project"
   ]
  },
  {
   "cell_type": "code",
   "execution_count": null,
   "id": "3a92d513-c1ae-445b-ae3d-fb3e54e6de07",
   "metadata": {},
   "outputs": [],
   "source": [
    "project = neptune.init_project(name=f\"{WORKSPACE_NAME}/{PROJECT_NAME}\")"
   ]
  },
  {
   "cell_type": "code",
   "execution_count": null,
   "id": "8ed00b16-7cf8-40f3-b1a0-cdcf44f70267",
   "metadata": {},
   "outputs": [],
   "source": [
    "project.fetch_models_table().to_pandas()"
   ]
  },
  {
   "cell_type": "code",
   "execution_count": null,
   "id": "09734b82-ccef-433f-b894-bfce3c69f618",
   "metadata": {},
   "outputs": [],
   "source": [
    "model_id = project.fetch_models_table().to_pandas().sort_values([\"sys/modification_time\"], ascending=False)[\"sys/id\"][0]\n",
    "project.stop()\n",
    "model_id"
   ]
  },
  {
   "cell_type": "code",
   "execution_count": null,
   "id": "1104b459-2ada-4001-a287-40617927fc11",
   "metadata": {},
   "outputs": [],
   "source": [
    "model_version = neptune.init_model_version(\n",
    "    model=model_id,\n",
    "    project=f\"{WORKSPACE_NAME}/{project.get_structure()['sys']['name'].fetch()}\",\n",
    ")"
   ]
  },
  {
   "cell_type": "markdown",
   "id": "e42205f0-6061-4861-9799-a2e3beb5756e",
   "metadata": {},
   "source": [
    "### Associate model version to run and vice-versa"
   ]
  },
  {
   "cell_type": "code",
   "execution_count": null,
   "id": "bd40fe2b-7fd4-491f-9136-d83918ed4fb1",
   "metadata": {},
   "outputs": [],
   "source": [
    "run_dict = {\n",
    "    \"id\": run.get_structure()[\"sys\"][\"id\"].fetch(),\n",
    "    \"name\": run.get_structure()[\"sys\"][\"name\"].fetch(),\n",
    "    \"url\": run.get_run_url(),\n",
    "}\n",
    "run_dict"
   ]
  },
  {
   "cell_type": "code",
   "execution_count": null,
   "id": "aa481912-bd9c-4ee9-bd78-1181b114f0fe",
   "metadata": {},
   "outputs": [],
   "source": [
    "model_version[\"run\"] = run_dict"
   ]
  },
  {
   "cell_type": "code",
   "execution_count": null,
   "id": "8b72231f-3454-44a8-a826-786cd0cfc016",
   "metadata": {},
   "outputs": [],
   "source": [
    "model_version_dict = {\n",
    "    \"id\": model_version.get_structure()[\"sys\"][\"id\"].fetch(),\n",
    "    \"url\": model_version.get_url(),\n",
    "}\n",
    "model_version_dict"
   ]
  },
  {
   "cell_type": "code",
   "execution_count": null,
   "id": "1cd37381-9293-4edc-bbc4-8f2252387b58",
   "metadata": {},
   "outputs": [],
   "source": [
    "run[\"model\"] = model_version_dict"
   ]
  },
  {
   "cell_type": "code",
   "execution_count": null,
   "id": "67749c7f-23f3-4f94-94b8-bbd7a5ba6242",
   "metadata": {},
   "outputs": [],
   "source": [
    "clf = fasttext.train_supervised(input=f\"{DATASET_PATH}/processed/train.txt\")"
   ]
  },
  {
   "cell_type": "markdown",
   "id": "d6eaf798-88f7-484d-bb30-8836784490af",
   "metadata": {},
   "source": [
    "### Upload serialized model to model registry\n",
    "[Read the docs](https://docs.neptune.ai/how-to-guides/model-registry/creating-model-versions)"
   ]
  },
  {
   "cell_type": "code",
   "execution_count": null,
   "id": "b5ee9a5b-a976-4945-9a60-4b5c884ccce7",
   "metadata": {},
   "outputs": [],
   "source": [
    "clf.save_model(\"../../models/fasttext_processed.bin\")"
   ]
  },
  {
   "cell_type": "code",
   "execution_count": null,
   "id": "24632031-bb0f-4f32-8fb0-510bc1cbf63a",
   "metadata": {},
   "outputs": [],
   "source": [
    "model_version[\"serialized_model\"].upload(\"../../models/fasttext_processed.bin\")"
   ]
  },
  {
   "cell_type": "markdown",
   "id": "26e84534-ede7-4373-999a-2bd9af5e8383",
   "metadata": {},
   "source": [
    "### Log model properties to model_version"
   ]
  },
  {
   "cell_type": "code",
   "execution_count": null,
   "id": "ba5e675e-9164-49f5-ad3e-de020777b9ba",
   "metadata": {},
   "outputs": [],
   "source": [
    "properties = {k: v for k, v in vars(clf).items() if k not in [\"_words\", \"f\"]}\n",
    "properties"
   ]
  },
  {
   "cell_type": "code",
   "execution_count": null,
   "id": "0fd73f0e-fc35-44f4-8dcf-80f0933e03ab",
   "metadata": {},
   "outputs": [],
   "source": [
    "model_version[\"properties\"] = properties"
   ]
  },
  {
   "cell_type": "markdown",
   "id": "466932e0-88d9-4a81-911e-2768f8538eed",
   "metadata": {},
   "source": [
    "## Log parameters, metrics and debugging information to run"
   ]
  },
  {
   "cell_type": "code",
   "execution_count": null,
   "id": "f60d7382-3c7f-458e-af2f-6ad3585492a9",
   "metadata": {},
   "outputs": [],
   "source": [
    "_, precision, recall = clf.test(f\"{DATASET_PATH}/processed/test.txt\")\n",
    "print(precision, recall)"
   ]
  },
  {
   "cell_type": "code",
   "execution_count": null,
   "id": "bb29b048-54c9-4778-aca6-9d4c3ec2e1d8",
   "metadata": {},
   "outputs": [],
   "source": [
    "run[\"test/metrics/precision\"] = precision\n",
    "run[\"test/metrics/recall\"] = recall"
   ]
  },
  {
   "cell_type": "code",
   "execution_count": null,
   "id": "330443cd-ca5a-4524-a5fe-fdd2ffea340e",
   "metadata": {
    "tags": []
   },
   "outputs": [],
   "source": [
    "preds = [clf.predict(text)[0][0] for text in X_test.values]\n",
    "set(preds)"
   ]
  },
  {
   "cell_type": "code",
   "execution_count": null,
   "id": "1c3c11de-60d5-4eda-875e-398a03c84696",
   "metadata": {},
   "outputs": [],
   "source": [
    "print(classification_report(y_test, preds, zero_division=0))\n",
    "run[\"test/metrics/classification_report\"] = classification_report(y_test, preds, output_dict=True, zero_division=0)"
   ]
  },
  {
   "cell_type": "code",
   "execution_count": null,
   "id": "6c39fb00-849d-4ed6-a3e1-3235101e036e",
   "metadata": {},
   "outputs": [],
   "source": [
    "df_clf_rpt = pd.DataFrame(classification_report(y_test, preds, output_dict=True, zero_division=0)).T\n",
    "run[\"test/metrics/classification_report/report\"].upload(File.as_html(df_clf_rpt))"
   ]
  },
  {
   "cell_type": "code",
   "execution_count": null,
   "id": "b2e65e2b-587c-42b1-980e-ca68ba582a96",
   "metadata": {},
   "outputs": [],
   "source": [
    "print(f1_score(y_test, preds, average=\"weighted\"))\n",
    "run[\"test/metrics/f1_score\"] = f1_score(y_test, preds, average=\"weighted\")"
   ]
  },
  {
   "cell_type": "code",
   "execution_count": null,
   "id": "6cc211fb-b407-4597-8c32-fe0cc98c2e77",
   "metadata": {},
   "outputs": [],
   "source": [
    "fig = ConfusionMatrixDisplay.from_predictions(y_test, preds, xticks_rotation=\"vertical\", colorbar=False)\n",
    "run[\"test/debug/plots/confusion_matrix\"].upload(fig.figure_)"
   ]
  },
  {
   "cell_type": "code",
   "execution_count": null,
   "id": "db82e859-00f2-4981-b998-6dce49139425",
   "metadata": {},
   "outputs": [],
   "source": [
    "df_test[\"prediction\"] = preds\n",
    "df_test"
   ]
  },
  {
   "cell_type": "code",
   "execution_count": null,
   "id": "54cdd2b5-2e26-49f9-9533-787fb79af91c",
   "metadata": {},
   "outputs": [],
   "source": [
    "labels = [s.replace(\"__label__\", \"\") for s in df_test.label.value_counts().index]\n",
    "fig = go.Figure(\n",
    "    data=[\n",
    "        go.Bar(name=\"Actual\", x=labels, y=df_test.label.value_counts()),\n",
    "        go.Bar(name=\"Prediction\", x=labels, y=df_test.prediction.value_counts()),\n",
    "    ]\n",
    ")\n",
    "fig.update_layout(title=\"Actual vs Prediction\", barmode=\"group\")\n",
    "fig.show()"
   ]
  },
  {
   "cell_type": "code",
   "execution_count": null,
   "id": "cf15a287-f20c-4daf-b4a7-e6855cbcef1f",
   "metadata": {},
   "outputs": [],
   "source": [
    "run[\"test/debug/plots/prediction_distribution\"].upload(fig)"
   ]
  },
  {
   "cell_type": "code",
   "execution_count": null,
   "id": "0bd5f9ea-48de-4973-bb66-4764da931ec4",
   "metadata": {},
   "outputs": [],
   "source": [
    "df_debug = df_test[df_test.label != df_test.prediction]\n",
    "\n",
    "csv_buffer = StringIO()\n",
    "\n",
    "df_debug.to_csv(csv_buffer, index=False)\n",
    "run[\"test/debug/misclassifications\"].upload(File.from_stream(csv_buffer, extension=\"csv\"))"
   ]
  },
  {
   "cell_type": "markdown",
   "id": "9bd5f2ff-67c9-40fb-a02d-7c55121926cc",
   "metadata": {},
   "source": [
    "## Stop current model version, and run"
   ]
  },
  {
   "cell_type": "code",
   "execution_count": null,
   "id": "8b104912-9a44-4f38-b71b-99d4d53bb677",
   "metadata": {},
   "outputs": [],
   "source": [
    "model_version.stop()\n",
    "run.stop()"
   ]
  },
  {
   "cell_type": "markdown",
   "id": "0232e4aa-12a3-4fc0-96c4-e0ac07436e57",
   "metadata": {},
   "source": [
    "# Initialize a new neptune run for autofinetuned model\n",
    "[Read the docs](https://docs.neptune.ai/you-should-know/core-concepts#run)"
   ]
  },
  {
   "cell_type": "code",
   "execution_count": null,
   "id": "6a547bc4-3ce2-4521-8114-0614dc3f5d78",
   "metadata": {},
   "outputs": [],
   "source": [
    "run = neptune.init_run(\n",
    "    project=f\"{WORKSPACE_NAME}/{PROJECT_NAME}\",\n",
    "    name=\"text classification using fasttext\",\n",
    "    description=\"Autotuned model\",\n",
    "    tags=[\"fasttext\", \"processed\", \"finetuned\"],\n",
    ")"
   ]
  },
  {
   "cell_type": "markdown",
   "id": "7c74b0c8-b6da-48b4-a358-7bd7b938abdd",
   "metadata": {},
   "source": [
    "## Track run-specific files\n",
    "[Read the docs](https://docs.neptune.ai/how-to-guides/data-versioning/compare-datasets#step-2-add-tracking-of-the-dataset-version)"
   ]
  },
  {
   "cell_type": "code",
   "execution_count": null,
   "id": "c29fa3ba-fdec-4d2b-b1d5-eddd48a1c0e2",
   "metadata": {},
   "outputs": [],
   "source": [
    "csv_buffer = StringIO()\n",
    "\n",
    "df_processed.sample(100).to_csv(csv_buffer, index=False)\n",
    "run[\"data/sample\"].upload(File.from_stream(csv_buffer, extension=\"csv\"))"
   ]
  },
  {
   "cell_type": "code",
   "execution_count": null,
   "id": "a99dbe31-00fa-495c-8c6c-da7e252aee17",
   "metadata": {},
   "outputs": [],
   "source": [
    "run[\"data/files\"].track_files(f\"{DATASET_PATH}/processed\")"
   ]
  },
  {
   "cell_type": "markdown",
   "id": "dd329d3a-cbf5-4ac1-b65e-96fcf78b3afd",
   "metadata": {},
   "source": [
    "## Log metadata to run\n",
    "[Read the docs](https://docs.neptune.ai/you-should-know/logging-metadata)"
   ]
  },
  {
   "cell_type": "code",
   "execution_count": null,
   "id": "f4ef240a-e54d-4610-99da-3f1a9fd789d8",
   "metadata": {},
   "outputs": [],
   "source": [
    "metadata = {\n",
    "    \"train_size\": len(df_train),\n",
    "    \"test_size\": len(df_test),\n",
    "    \"valid_size\": len(df_valid),\n",
    "}\n",
    "metadata"
   ]
  },
  {
   "cell_type": "code",
   "execution_count": null,
   "id": "02910cec-9261-474f-af79-4b951fb90697",
   "metadata": {
    "tags": []
   },
   "outputs": [],
   "source": [
    "run[\"data/metadata\"] = metadata"
   ]
  },
  {
   "cell_type": "markdown",
   "id": "c464a910-0998-4d50-afac-8c61be28ac3f",
   "metadata": {},
   "source": [
    "## Create a new model version\n",
    "[Read the docs](https://docs.neptune.ai/how-to-guides/model-registry/creating-model-versions)"
   ]
  },
  {
   "cell_type": "markdown",
   "id": "44fc0ad5-64e4-44ed-b888-717dbc6ca517",
   "metadata": {},
   "source": [
    "### Fetch existing models in the project"
   ]
  },
  {
   "cell_type": "code",
   "execution_count": null,
   "id": "b2f417d7-276f-438a-9af9-43e3b2a37355",
   "metadata": {},
   "outputs": [],
   "source": [
    "project = neptune.init_project(name=f\"{WORKSPACE_NAME}/{PROJECT_NAME}\")"
   ]
  },
  {
   "cell_type": "code",
   "execution_count": null,
   "id": "8e84b966-f1cc-4d31-a465-8f1078c78d10",
   "metadata": {},
   "outputs": [],
   "source": [
    "project.fetch_models_table().to_pandas()"
   ]
  },
  {
   "cell_type": "code",
   "execution_count": null,
   "id": "84c7c507-80b5-478b-ae14-55f704e12540",
   "metadata": {},
   "outputs": [],
   "source": [
    "model_id = project.fetch_models_table().to_pandas().sort_values([\"sys/modification_time\"], ascending=False)[\"sys/id\"][0]\n",
    "project.stop()\n",
    "model_id"
   ]
  },
  {
   "cell_type": "code",
   "execution_count": null,
   "id": "51aeeb0e-125f-4af4-bdd2-641e297217af",
   "metadata": {},
   "outputs": [],
   "source": [
    "model_version = neptune.init_model_version(\n",
    "    model=model_id,\n",
    "    project=f\"{WORKSPACE_NAME}/{project.get_structure()['sys']['name'].fetch()}\",\n",
    ")"
   ]
  },
  {
   "cell_type": "markdown",
   "id": "b5bf376a-2e49-4449-98ae-0ace9fa711a7",
   "metadata": {},
   "source": [
    "### Associate model version to run and vice-versa"
   ]
  },
  {
   "cell_type": "code",
   "execution_count": null,
   "id": "e27bcccf-5da1-4d13-b894-87287c698bc7",
   "metadata": {},
   "outputs": [],
   "source": [
    "run_dict = {\n",
    "    \"id\": run.get_structure()[\"sys\"][\"id\"].fetch(),\n",
    "    \"name\": run.get_structure()[\"sys\"][\"name\"].fetch(),\n",
    "    \"url\": run.get_run_url(),\n",
    "}\n",
    "run_dict"
   ]
  },
  {
   "cell_type": "code",
   "execution_count": null,
   "id": "2661ef72-6f3c-4005-9be0-d52cbbe9cac6",
   "metadata": {},
   "outputs": [],
   "source": [
    "model_version[\"run\"] = run_dict"
   ]
  },
  {
   "cell_type": "code",
   "execution_count": null,
   "id": "1540df46-7686-4913-b79d-98bb34bffb40",
   "metadata": {},
   "outputs": [],
   "source": [
    "model_version_dict = {\n",
    "    \"id\": model_version.get_structure()[\"sys\"][\"id\"].fetch(),\n",
    "    \"url\": model_version.get_url(),\n",
    "}\n",
    "model_version_dict"
   ]
  },
  {
   "cell_type": "code",
   "execution_count": null,
   "id": "3d480e0e-f632-418d-b59c-1a2331d48bdf",
   "metadata": {},
   "outputs": [],
   "source": [
    "run[\"model\"] = model_version_dict"
   ]
  },
  {
   "cell_type": "code",
   "execution_count": null,
   "id": "139ae062-3e97-4491-965b-9c78af335af6",
   "metadata": {},
   "outputs": [],
   "source": [
    "import os"
   ]
  },
  {
   "cell_type": "code",
   "execution_count": null,
   "id": "d4f5449a-4446-4b3c-8ded-732391872a20",
   "metadata": {},
   "outputs": [],
   "source": [
    "clf = fasttext.train_supervised(\n",
    "    input=f\"{DATASET_PATH}/processed/train.txt\",\n",
    "    autotuneValidationFile=f\"{DATASET_PATH}/processed/valid.txt\",\n",
    "    verbose=3,\n",
    "    thread=os.cpu_count() - 2,\n",
    "    autotuneDuration=120,\n",
    ")"
   ]
  },
  {
   "cell_type": "markdown",
   "id": "cbe589d8-c675-4ddc-be50-04034cab8f53",
   "metadata": {},
   "source": [
    "### Upload serialized model to model registry\n",
    "[Read the docs](https://docs.neptune.ai/how-to-guides/model-registry/creating-model-versions)"
   ]
  },
  {
   "cell_type": "code",
   "execution_count": null,
   "id": "1d3b8d0e-6214-4330-aae7-252a45085c94",
   "metadata": {},
   "outputs": [],
   "source": [
    "clf.save_model(\"../../models/fasttext_finetuned.bin\")"
   ]
  },
  {
   "cell_type": "code",
   "execution_count": null,
   "id": "74bcc703-cc8a-4597-b414-6d9a5b08eb9b",
   "metadata": {},
   "outputs": [],
   "source": [
    "model_version[\"serialized_model\"].upload(\"../../models/fasttext_finetuned.bin\")"
   ]
  },
  {
   "cell_type": "markdown",
   "id": "8f629644-042b-4ed6-8ea2-0e0ecca02f85",
   "metadata": {},
   "source": [
    "### Log model properties to model_version"
   ]
  },
  {
   "cell_type": "code",
   "execution_count": null,
   "id": "fb4d555e-befd-443d-a382-be5bee27b5e0",
   "metadata": {},
   "outputs": [],
   "source": [
    "properties = {k: v for k, v in vars(clf).items() if k not in [\"_words\", \"f\"]}\n",
    "properties"
   ]
  },
  {
   "cell_type": "code",
   "execution_count": null,
   "id": "d6abb84c-c072-4f3e-9305-9119ee0651aa",
   "metadata": {},
   "outputs": [],
   "source": [
    "model_version[\"properties\"] = properties"
   ]
  },
  {
   "cell_type": "markdown",
   "id": "75672cec-d1cd-4f48-a902-bbf56e9b5895",
   "metadata": {},
   "source": [
    "## Log parameters, metrics and debugging information to run"
   ]
  },
  {
   "cell_type": "code",
   "execution_count": null,
   "id": "0a980c16-f0ce-4d6e-8ff4-c010e54f8622",
   "metadata": {},
   "outputs": [],
   "source": [
    "_, precision, recall = clf.test(f\"{DATASET_PATH}/processed/test.txt\")\n",
    "print(precision, recall)"
   ]
  },
  {
   "cell_type": "code",
   "execution_count": null,
   "id": "09bb84bb-09b9-493c-b809-e518eb6be9cd",
   "metadata": {},
   "outputs": [],
   "source": [
    "run[\"test/metrics/precision\"] = precision\n",
    "run[\"test/metrics/recall\"] = recall"
   ]
  },
  {
   "cell_type": "code",
   "execution_count": null,
   "id": "3dde8c75-9671-4735-a87f-6b357fc72042",
   "metadata": {
    "tags": []
   },
   "outputs": [],
   "source": [
    "preds = [clf.predict(text)[0][0] for text in X_test.values]\n",
    "set(preds)"
   ]
  },
  {
   "cell_type": "code",
   "execution_count": null,
   "id": "0b32caca-f41b-4f8c-82a3-e7aced5525f7",
   "metadata": {},
   "outputs": [],
   "source": [
    "print(classification_report(y_test, preds, zero_division=0))\n",
    "run[\"test/metrics/classification_report\"] = classification_report(y_test, preds, output_dict=True, zero_division=0)"
   ]
  },
  {
   "cell_type": "code",
   "execution_count": null,
   "id": "fece262d-830b-4ffd-b78f-fa1fe55e2a17",
   "metadata": {},
   "outputs": [],
   "source": [
    "df_clf_rpt = pd.DataFrame(classification_report(y_test, preds, output_dict=True, zero_division=0)).T\n",
    "run[\"test/metrics/classification_report/report\"].upload(File.as_html(df_clf_rpt))"
   ]
  },
  {
   "cell_type": "code",
   "execution_count": null,
   "id": "4cd9c848-dddc-4a1a-9082-e0a6cd99606f",
   "metadata": {},
   "outputs": [],
   "source": [
    "print(f1_score(y_test, preds, average=\"weighted\"))\n",
    "run[\"test/metrics/f1_score\"] = f1_score(y_test, preds, average=\"weighted\")"
   ]
  },
  {
   "cell_type": "code",
   "execution_count": null,
   "id": "01b52b74-d40f-4570-a30f-a72574d5326f",
   "metadata": {},
   "outputs": [],
   "source": [
    "fig = ConfusionMatrixDisplay.from_predictions(y_test, preds, xticks_rotation=\"vertical\", colorbar=False)\n",
    "run[\"test/debug/plots/confusion_matrix\"].upload(fig.figure_)"
   ]
  },
  {
   "cell_type": "code",
   "execution_count": null,
   "id": "5a65e468-1d90-4d37-bcdd-59ea433f2353",
   "metadata": {},
   "outputs": [],
   "source": [
    "df_test[\"prediction\"] = preds\n",
    "df_test"
   ]
  },
  {
   "cell_type": "code",
   "execution_count": null,
   "id": "b51ce173-fe42-4395-8730-b9eba55e8651",
   "metadata": {},
   "outputs": [],
   "source": [
    "labels = [s.replace(\"__label__\", \"\") for s in df_test.label.value_counts().index]\n",
    "fig = go.Figure(\n",
    "    data=[\n",
    "        go.Bar(name=\"Actual\", x=labels, y=df_test.label.value_counts()),\n",
    "        go.Bar(name=\"Prediction\", x=labels, y=df_test.prediction.value_counts()),\n",
    "    ]\n",
    ")\n",
    "fig.update_layout(title=\"Actual vs Prediction\", barmode=\"group\")\n",
    "fig.show()"
   ]
  },
  {
   "cell_type": "code",
   "execution_count": null,
   "id": "5313a92c-3f3a-4458-8263-b5f96cbffcf2",
   "metadata": {},
   "outputs": [],
   "source": [
    "run[\"test/debug/plots/prediction_distribution\"].upload(fig)"
   ]
  },
  {
   "cell_type": "code",
   "execution_count": null,
   "id": "1349f933-955d-48f1-aab4-6144235a14b2",
   "metadata": {},
   "outputs": [],
   "source": [
    "df_debug = df_test[df_test.label != df_test.prediction]\n",
    "\n",
    "csv_buffer = StringIO()\n",
    "\n",
    "df_debug.to_csv(csv_buffer, index=False)\n",
    "run[\"test/debug/misclassifications\"].upload(File.from_stream(csv_buffer, extension=\"csv\"))"
   ]
  },
  {
   "cell_type": "markdown",
   "id": "27ec1924-27e2-4ad4-b7f7-28114e4cc582",
   "metadata": {},
   "source": [
    "## Stop current model version, and run"
   ]
  },
  {
   "cell_type": "code",
   "execution_count": null,
   "id": "16d94208-7339-49ab-8a5d-2c437b354674",
   "metadata": {},
   "outputs": [],
   "source": [
    "model_version.stop()\n",
    "run.stop()"
   ]
  },
  {
   "cell_type": "markdown",
   "id": "bdf3bf4c-9624-4bb8-ae6f-9b624301cb16",
   "metadata": {
    "tags": []
   },
   "source": [
    "# Initialize study-level run for optuna finetuned model"
   ]
  },
  {
   "cell_type": "code",
   "execution_count": null,
   "id": "10cca185-df43-479f-a721-9310aa6676aa",
   "metadata": {},
   "outputs": [],
   "source": [
    "import uuid\n",
    "\n",
    "sweep_id = uuid.uuid1()\n",
    "print(\"sweep-id: \", sweep_id)"
   ]
  },
  {
   "cell_type": "code",
   "execution_count": null,
   "id": "5732bd74-727f-4721-81c2-7ac36c78779b",
   "metadata": {},
   "outputs": [],
   "source": [
    "run = neptune.init_run(\n",
    "    project=f\"{WORKSPACE_NAME}/{PROJECT_NAME}\",\n",
    "    name=\"text classification using fasttext\",\n",
    "    description=\"tuning fasttext classification model using Optuna\",\n",
    "    tags=[\"fasttext\", \"processed\", \"finetuned\", \"optuna\", \"study-level\"],\n",
    ")"
   ]
  },
  {
   "cell_type": "code",
   "execution_count": null,
   "id": "25aa35be-5b00-41b7-9b67-0af2fc069756",
   "metadata": {},
   "outputs": [],
   "source": [
    "run[\"data/files\"].track_files(f\"{DATASET_PATH}/processed\")"
   ]
  },
  {
   "cell_type": "markdown",
   "id": "f99229c4-80ef-4fbc-ae2f-2cc017ca57e3",
   "metadata": {},
   "source": [
    "## Log metadata to run\n",
    "[Read the docs](https://docs.neptune.ai/you-should-know/logging-metadata)"
   ]
  },
  {
   "cell_type": "code",
   "execution_count": null,
   "id": "4b20c0be-9161-4151-ad19-ee40cd9de95a",
   "metadata": {},
   "outputs": [],
   "source": [
    "metadata = {\n",
    "    \"train_size\": len(df_train),\n",
    "    \"test_size\": len(df_test),\n",
    "    \"valid_size\": len(df_valid),\n",
    "}\n",
    "metadata"
   ]
  },
  {
   "cell_type": "code",
   "execution_count": null,
   "id": "39e9285b-011e-45f8-9448-0fde06653177",
   "metadata": {
    "tags": []
   },
   "outputs": [],
   "source": [
    "run[\"data/metadata\"] = metadata"
   ]
  },
  {
   "cell_type": "markdown",
   "id": "a8326cd4-8e59-4280-8b90-852c2108f02f",
   "metadata": {},
   "source": [
    "## Log sweep and trial parameters\n",
    "[Read the docs](https://docs.neptune.ai/integrations-and-supported-tools/hyperparameter-optimization/optuna)"
   ]
  },
  {
   "cell_type": "code",
   "execution_count": null,
   "id": "39b3c378-b3f4-43c2-a8c9-fccd7be5e0d5",
   "metadata": {},
   "outputs": [],
   "source": [
    "import optuna"
   ]
  },
  {
   "cell_type": "code",
   "execution_count": null,
   "id": "8d75ab7e-9fb3-44bc-b9b5-bb92728a2eaa",
   "metadata": {},
   "outputs": [],
   "source": [
    "def objective_with_logging(trial):\n",
    "\n",
    "    params = {\n",
    "        \"lr\": trial.suggest_float(\"lr\", 0.1, 1, step=0.1),\n",
    "        \"dim\": trial.suggest_int(\"dim\", 10, 1000, log=True),\n",
    "        \"ws\": trial.suggest_int(\"ws\", 1, 10),\n",
    "        \"epoch\": trial.suggest_int(\"epoch\", 1, 100),\n",
    "        \"minCount\": trial.suggest_int(\"minCount\", 1, 10),\n",
    "        \"wordNgrams\": trial.suggest_int(\"wordNgrams\", 1, 3),\n",
    "        \"loss\": trial.suggest_categorical(\"loss\", [\"hs\", \"softmax\", \"ova\"]),\n",
    "        \"bucket\": trial.suggest_int(\"bucket\", 1000000, 6000000, log=True),\n",
    "        \"lrUpdateRate\": trial.suggest_int(\"lrUpdateRate\", 1, 100, log=True),\n",
    "        \"t\": trial.suggest_float(\"t\", 0.00001, 0.1, log=True),\n",
    "    }\n",
    "\n",
    "    # create a trial-level Run\n",
    "    run_trial_level = neptune.init_run(\n",
    "        project=f\"{WORKSPACE_NAME}/{PROJECT_NAME}\",\n",
    "        name=\"text classification using fasttext\",\n",
    "        description=\"Tuning fasttext classification model using Optuna\",\n",
    "        tags=[\"fasttext\", \"processed\", \"trial-level\"],\n",
    "    )\n",
    "\n",
    "    # log sweep id to trial-level Run\n",
    "    run_trial_level[\"sweep_id\"] = sweep_id\n",
    "\n",
    "    # log parameters of a trial-level Run\n",
    "    clf = fasttext.train_supervised(\n",
    "        input=f\"{DATASET_PATH}/processed/train.txt\",\n",
    "        verbose=0,\n",
    "        **params,\n",
    "    )\n",
    "\n",
    "    properties = {k: v for k, v in vars(clf).items() if k not in [\"_words\", \"f\"]}\n",
    "    run_trial_level[\"model/properties\"] = properties\n",
    "\n",
    "    # run training and calculate the score for this parameter configuration\n",
    "    _, precision, recall = clf.test(f\"{DATASET_PATH}/processed/valid.txt\")\n",
    "    run_trial_level[\"validation/metrics/precision\"] = precision\n",
    "    run_trial_level[\"validation/metrics/recall\"] = recall\n",
    "\n",
    "    preds = [clf.predict(text)[0][0] for text in X_valid.values]\n",
    "\n",
    "    run_trial_level[\"validation/metrics/classification_report\"] = classification_report(\n",
    "        y_valid, preds, output_dict=True, zero_division=0\n",
    "    )\n",
    "\n",
    "    score = f1_score(y_valid, preds, average=\"weighted\")\n",
    "    run_trial_level[\"validation/metrics/f1_score\"] = score\n",
    "\n",
    "    # stop trial-level Run\n",
    "    run_trial_level.stop()\n",
    "\n",
    "    return score"
   ]
  },
  {
   "cell_type": "code",
   "execution_count": null,
   "id": "545a9c24-93f8-45f8-89ed-6d41fa1a1afa",
   "metadata": {},
   "outputs": [],
   "source": [
    "import neptune.new.integrations.optuna as optuna_utils\n",
    "\n",
    "neptune_callback = optuna_utils.NeptuneCallback(run)"
   ]
  },
  {
   "cell_type": "code",
   "execution_count": null,
   "id": "1d0ea185-ac23-4dbc-8259-d504677047e0",
   "metadata": {
    "tags": []
   },
   "outputs": [],
   "source": [
    "study = optuna.create_study(direction=\"maximize\")\n",
    "study.optimize(\n",
    "    objective_with_logging,\n",
    "    n_trials=10,\n",
    "    callbacks=[neptune_callback],\n",
    ")"
   ]
  },
  {
   "cell_type": "code",
   "execution_count": null,
   "id": "e04e8361-86a0-4f0f-985f-cfd4b9ed7c85",
   "metadata": {},
   "outputs": [],
   "source": [
    "run[\"study/sweep_id\"] = sweep_id"
   ]
  },
  {
   "cell_type": "markdown",
   "id": "35f6b8b9-59c4-4d48-9e95-a2507c9f948d",
   "metadata": {},
   "source": [
    "## Create a new model version\n",
    "[Read the docs](https://docs.neptune.ai/how-to-guides/model-registry/creating-model-versions)"
   ]
  },
  {
   "cell_type": "markdown",
   "id": "214163c5-bfa7-47ce-b3e5-a1b0f61f650e",
   "metadata": {},
   "source": [
    "### Fetch existing models in the project"
   ]
  },
  {
   "cell_type": "code",
   "execution_count": null,
   "id": "22ca382c-c754-4700-ad16-0d4f995988a7",
   "metadata": {},
   "outputs": [],
   "source": [
    "project = neptune.init_project(name=f\"{WORKSPACE_NAME}/{PROJECT_NAME}\")"
   ]
  },
  {
   "cell_type": "code",
   "execution_count": null,
   "id": "53396884-c7eb-4f5f-926c-4bf61cb6f2eb",
   "metadata": {},
   "outputs": [],
   "source": [
    "project.fetch_models_table().to_pandas()"
   ]
  },
  {
   "cell_type": "code",
   "execution_count": null,
   "id": "b03a2aed-99fb-4449-b16b-a6710da14255",
   "metadata": {},
   "outputs": [],
   "source": [
    "model_id = project.fetch_models_table().to_pandas().sort_values([\"sys/modification_time\"], ascending=False)[\"sys/id\"][0]\n",
    "project.stop()\n",
    "model_id"
   ]
  },
  {
   "cell_type": "code",
   "execution_count": null,
   "id": "ec859150-db6a-45a9-adae-a620d4d43947",
   "metadata": {},
   "outputs": [],
   "source": [
    "model_version = neptune.init_model_version(\n",
    "    model=model_id,\n",
    "    project=f\"{WORKSPACE_NAME}/{project.get_structure()['sys']['name'].fetch()}\",\n",
    ")"
   ]
  },
  {
   "cell_type": "markdown",
   "id": "dbf8240c-4b39-416d-9940-dbc03c480481",
   "metadata": {},
   "source": [
    "### Associate model version to run and vice-versa"
   ]
  },
  {
   "cell_type": "code",
   "execution_count": null,
   "id": "f81c7743-4612-4918-be70-777e9401740b",
   "metadata": {},
   "outputs": [],
   "source": [
    "run_dict = {\n",
    "    \"id\": run.get_structure()[\"sys\"][\"id\"].fetch(),\n",
    "    \"name\": run.get_structure()[\"sys\"][\"name\"].fetch(),\n",
    "    \"url\": run.get_run_url(),\n",
    "}\n",
    "run_dict"
   ]
  },
  {
   "cell_type": "code",
   "execution_count": null,
   "id": "e11952fc-b1ce-4658-9cbf-fc981b156368",
   "metadata": {},
   "outputs": [],
   "source": [
    "model_version[\"run\"] = run_dict"
   ]
  },
  {
   "cell_type": "code",
   "execution_count": null,
   "id": "1bc2e083-be1a-4466-818d-acd6942acfbc",
   "metadata": {},
   "outputs": [],
   "source": [
    "model_version_dict = {\n",
    "    \"id\": model_version.get_structure()[\"sys\"][\"id\"].fetch(),\n",
    "    \"url\": model_version.get_url(),\n",
    "}\n",
    "model_version_dict"
   ]
  },
  {
   "cell_type": "code",
   "execution_count": null,
   "id": "ff2d4e5e-7db7-482e-b2bf-f2a6a128d24d",
   "metadata": {},
   "outputs": [],
   "source": [
    "run[\"model\"] = model_version_dict"
   ]
  },
  {
   "cell_type": "code",
   "execution_count": null,
   "id": "51395b49-29b6-4051-bba3-ee25b27ca15e",
   "metadata": {},
   "outputs": [],
   "source": [
    "clf = fasttext.train_supervised(\n",
    "    input=f\"{DATASET_PATH}/processed/train.txt\",\n",
    "    verbose=5,\n",
    "    **study.best_params,\n",
    ")"
   ]
  },
  {
   "cell_type": "markdown",
   "id": "9b3b68c8-0950-4e51-a38a-1cfe1c0c179a",
   "metadata": {},
   "source": [
    "### Upload serialized model to model registry\n",
    "[Read the docs](https://docs.neptune.ai/how-to-guides/model-registry/creating-model-versions)"
   ]
  },
  {
   "cell_type": "code",
   "execution_count": null,
   "id": "028b493a-d2ef-4855-ac53-2d3d40c30615",
   "metadata": {},
   "outputs": [],
   "source": [
    "clf.save_model(\"../../models/fasttext_optimized.bin\")"
   ]
  },
  {
   "cell_type": "code",
   "execution_count": null,
   "id": "94b8c596-b57f-4348-876d-6bd6d65eac4b",
   "metadata": {},
   "outputs": [],
   "source": [
    "model_version[\"serialized_model\"].upload(\"../../models/fasttext_optimized.bin\")"
   ]
  },
  {
   "cell_type": "markdown",
   "id": "5dd9684e-d5af-454b-9596-050414934e54",
   "metadata": {},
   "source": [
    "### Log model properties to model_version"
   ]
  },
  {
   "cell_type": "code",
   "execution_count": null,
   "id": "21ea268a-cdf4-437c-b433-5b41d110a140",
   "metadata": {},
   "outputs": [],
   "source": [
    "properties = {k: v for k, v in vars(clf).items() if k not in [\"_words\", \"f\"]}\n",
    "properties"
   ]
  },
  {
   "cell_type": "code",
   "execution_count": null,
   "id": "726545c0-3f21-4819-967f-8330998d7fa1",
   "metadata": {},
   "outputs": [],
   "source": [
    "model_version[\"properties\"] = properties"
   ]
  },
  {
   "cell_type": "markdown",
   "id": "bc77e530-f54d-49ef-8968-0cacf8e17387",
   "metadata": {},
   "source": [
    "## Log parameters, metrics and debugging information to run"
   ]
  },
  {
   "cell_type": "code",
   "execution_count": null,
   "id": "f561e27c-ecf2-4dd2-8c18-de6fad959820",
   "metadata": {},
   "outputs": [],
   "source": [
    "_, precision, recall = clf.test(f\"{DATASET_PATH}/processed/test.txt\")\n",
    "print(precision, recall)"
   ]
  },
  {
   "cell_type": "code",
   "execution_count": null,
   "id": "e3f1285c-267f-44b3-bf06-2fd37c2fb115",
   "metadata": {},
   "outputs": [],
   "source": [
    "run[\"test/metrics/precision\"] = precision\n",
    "run[\"test/metrics/recall\"] = recall"
   ]
  },
  {
   "cell_type": "code",
   "execution_count": null,
   "id": "e36eaa32-05f0-48ab-9cb5-8c9c8b198e97",
   "metadata": {
    "tags": []
   },
   "outputs": [],
   "source": [
    "preds = [clf.predict(text)[0][0] for text in X_test.values]\n",
    "set(preds)"
   ]
  },
  {
   "cell_type": "code",
   "execution_count": null,
   "id": "bf59ccfb-6165-411a-938c-099c878ac11b",
   "metadata": {},
   "outputs": [],
   "source": [
    "print(classification_report(y_test, preds, zero_division=0))\n",
    "run[\"test/metrics/classification_report\"] = classification_report(y_test, preds, output_dict=True, zero_division=0)"
   ]
  },
  {
   "cell_type": "code",
   "execution_count": null,
   "id": "1ebc75c5-fd7a-47f8-a3dd-5af1d3e789f7",
   "metadata": {},
   "outputs": [],
   "source": [
    "df_clf_rpt = pd.DataFrame(classification_report(y_test, preds, output_dict=True, zero_division=0)).T\n",
    "run[\"test/metrics/classification_report/report\"].upload(File.as_html(df_clf_rpt))"
   ]
  },
  {
   "cell_type": "code",
   "execution_count": null,
   "id": "70e3a0f2-2d88-410f-a5c1-73c76b99bed5",
   "metadata": {},
   "outputs": [],
   "source": [
    "f1_score(y_test, preds, average=\"weighted\")\n",
    "run[\"test/metrics/f1_score\"] = f1_score(y_test, preds, average=\"weighted\")"
   ]
  },
  {
   "cell_type": "code",
   "execution_count": null,
   "id": "78214eff-28fc-4d1c-867b-b06b57933c95",
   "metadata": {},
   "outputs": [],
   "source": [
    "fig = ConfusionMatrixDisplay.from_predictions(y_test, preds, xticks_rotation=\"vertical\", colorbar=False)\n",
    "run[\"test/debug/plots/confusion_matrix\"].upload(fig.figure_)"
   ]
  },
  {
   "cell_type": "code",
   "execution_count": null,
   "id": "fb119175-a278-4337-a779-2efbf858a7de",
   "metadata": {},
   "outputs": [],
   "source": [
    "df_test[\"prediction\"] = preds\n",
    "df_test"
   ]
  },
  {
   "cell_type": "code",
   "execution_count": null,
   "id": "04077f7e-2818-4bef-9d94-9645dbe7e3cf",
   "metadata": {},
   "outputs": [],
   "source": [
    "labels = [s.replace(\"__label__\", \"\") for s in df_test.label.value_counts().index]\n",
    "fig = go.Figure(\n",
    "    data=[\n",
    "        go.Bar(name=\"Actual\", x=labels, y=df_test.label.value_counts()),\n",
    "        go.Bar(name=\"Prediction\", x=labels, y=df_test.prediction.value_counts()),\n",
    "    ]\n",
    ")\n",
    "fig.update_layout(title=\"Actual vs Prediction\", barmode=\"group\")\n",
    "fig.show()"
   ]
  },
  {
   "cell_type": "code",
   "execution_count": null,
   "id": "70a90cc7-2ab5-46db-affe-71be1082013d",
   "metadata": {},
   "outputs": [],
   "source": [
    "run[\"test/debug/plots/prediction_distribution\"].upload(fig)"
   ]
  },
  {
   "cell_type": "code",
   "execution_count": null,
   "id": "422f8db0-a0ca-4879-90ae-dee4957cd77f",
   "metadata": {},
   "outputs": [],
   "source": [
    "df_debug = df_test[df_test.label != df_test.prediction]\n",
    "\n",
    "csv_buffer = StringIO()\n",
    "\n",
    "df_debug.to_csv(csv_buffer, index=False)\n",
    "run[\"test/debug/misclassifications\"].upload(File.from_stream(csv_buffer, extension=\"csv\"))"
   ]
  },
  {
   "cell_type": "markdown",
   "id": "62a2b771-bc7f-40b0-a12d-08e6a19ef61f",
   "metadata": {},
   "source": [
    "## Stop current model version, and run"
   ]
  },
  {
   "cell_type": "code",
   "execution_count": null,
   "id": "fd9fc7ab-d640-4332-a648-e9e004589fdc",
   "metadata": {},
   "outputs": [],
   "source": [
    "model_version.stop()\n",
    "run.stop()"
   ]
  },
  {
   "cell_type": "markdown",
   "id": "4a6584c2-0f5b-4449-944e-b42b1da43f39",
   "metadata": {},
   "source": [
    "# Explore the [project](https://app.neptune.ai/showcase/project-text-classification) in the Neptune app\n"
   ]
  }
 ],
 "metadata": {
  "language_info": {
   "codemirror_mode": {
    "name": "ipython",
    "version": 3
   },
   "file_extension": ".py",
   "mimetype": "text/x-python",
   "name": "python",
   "nbconvert_exporter": "python",
   "pygments_lexer": "ipython3",
   "version": "3.10.5"
  },
  "neptune": {
   "notebookId": "9728bc33-8960-46d2-8b4f-e26af7acbc59",
   "projectVersion": 2
  },
  "vscode": {
   "interpreter": {
    "hash": "ec001e92a202bf5caf822e845ea5ad1be0f2e89477ccf084fef05c1d70e5b02a"
   }
  }
 },
 "nbformat": 4,
 "nbformat_minor": 5
}
