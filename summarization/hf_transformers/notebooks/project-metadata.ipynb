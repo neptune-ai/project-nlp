{
 "cells": [
  {
   "cell_type": "code",
   "execution_count": null,
   "metadata": {},
   "outputs": [],
   "source": [
    "import neptune.new as neptune"
   ]
  },
  {
   "cell_type": "code",
   "execution_count": null,
   "metadata": {},
   "outputs": [],
   "source": [
    "import neptune.new as neptune\n",
    "project = neptune.init_project(name=\"showcase/project-text-summarization-hf\")\n"
   ]
  },
  {
   "cell_type": "code",
   "execution_count": null,
   "metadata": {},
   "outputs": [],
   "source": [
    "# Project Details\n",
    "project[\"general/brief\"] = \"NLP Text Summarization\"\n",
    "project[\"general/dataset_brief\"] = \"Samsun Datset from HF Dataset (https://huggingface.co/datasets/samsum)\"\n",
    "\n",
    "# Dataset Details\n",
    "project[\"general/dataset/v1\"].track_files(\"s3://neptune-examples/data/samsum/data_v1/\")\n",
    "project[\"general/dataset/v2\"].track_files(\"s3://neptune-examples/data/samsum/data_v2/\")\n",
    "project[\"general/dataset/v3\"].track_files(\"s3://neptune-examples/data/samsum/data_v3/\")\n"
   ]
  },
  {
   "cell_type": "code",
   "execution_count": null,
   "metadata": {},
   "outputs": [],
   "source": [
    "project.stop()"
   ]
  },
  {
   "cell_type": "code",
   "execution_count": null,
   "metadata": {},
   "outputs": [],
   "source": []
  }
 ],
 "metadata": {
  "interpreter": {
   "hash": "7673c292cefda8b41fd73567f877bd5cd4a83b70dfc9df37baddbf5188fc0bc1"
  },
  "language_info": {
   "codemirror_mode": {
    "name": "ipython",
    "version": 3
   },
   "file_extension": ".py",
   "mimetype": "text/x-python",
   "name": "python",
   "nbconvert_exporter": "python",
   "pygments_lexer": "ipython3",
   "version": "3.10.4"
  }
 },
 "nbformat": 4,
 "nbformat_minor": 2
}
